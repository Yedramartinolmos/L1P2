{
  "cells": [
    {
      "cell_type": "markdown",
      "source": [
        "###Práctica 2 (el perfil de los clientes de un banco)"
      ],
      "metadata": {
        "id": "5QJO7elOkHGx"
      },
      "id": "5QJO7elOkHGx"
    },
    {
      "cell_type": "markdown",
      "source": [
        "**Objetivo**\n",
        "\n",
        "La sucursal del Banco Santander situada en el campus de la Universidad Francisco de Vitoria nos solicita hacer varios estudios de sus clientes. \n",
        "\n",
        "Para ello haremos uso de un dataset proporcionado por la propia sucursal que \n",
        "se puede encontrar en Moodle."
      ],
      "metadata": {
        "id": "sAPe0lDMkNCk"
      },
      "id": "sAPe0lDMkNCk"
    },
    {
      "cell_type": "markdown",
      "source": [
        "##Apartado 1"
      ],
      "metadata": {
        "id": "2bbu5yx2keof"
      },
      "id": "2bbu5yx2keof"
    },
    {
      "cell_type": "code",
      "execution_count": 50,
      "id": "e96c2f3c",
      "metadata": {
        "id": "e96c2f3c"
      },
      "outputs": [],
      "source": [
        "import numpy as np \n",
        "import pandas as pd \n",
        "import sklearn as sk\n",
        "import matplotlib.pyplot as plt\n",
        "\n",
        "data = pd.read_csv('banco_ufv.csv',sep=';')\n"
      ]
    },
    {
      "cell_type": "code",
      "execution_count": 51,
      "id": "e199ae9c",
      "metadata": {
        "id": "e199ae9c",
        "outputId": "7efc9a10-f1cd-4729-f2c2-0eaddb2b8b10",
        "colab": {
          "base_uri": "https://localhost:8080/"
        }
      },
      "outputs": [
        {
          "output_type": "stream",
          "name": "stdout",
          "text": [
            "<class 'pandas.core.frame.DataFrame'>\n",
            "RangeIndex: 45211 entries, 0 to 45210\n",
            "Data columns (total 17 columns):\n",
            " #   Column     Non-Null Count  Dtype \n",
            "---  ------     --------------  ----- \n",
            " 0   age        45211 non-null  int64 \n",
            " 1   job        45211 non-null  object\n",
            " 2   marital    45211 non-null  object\n",
            " 3   education  45211 non-null  object\n",
            " 4   default    45211 non-null  object\n",
            " 5   balance    45211 non-null  int64 \n",
            " 6   housing    45211 non-null  object\n",
            " 7   loan       45211 non-null  object\n",
            " 8   contact    45211 non-null  object\n",
            " 9   day        45211 non-null  int64 \n",
            " 10  month      45211 non-null  object\n",
            " 11  duration   45211 non-null  int64 \n",
            " 12  campaign   45211 non-null  int64 \n",
            " 13  pdays      45211 non-null  int64 \n",
            " 14  previous   45211 non-null  int64 \n",
            " 15  poutcome   45211 non-null  object\n",
            " 16  y          45211 non-null  object\n",
            "dtypes: int64(7), object(10)\n",
            "memory usage: 5.9+ MB\n"
          ]
        }
      ],
      "source": [
        "data.info()"
      ]
    },
    {
      "cell_type": "code",
      "execution_count": 52,
      "id": "0b65f91a",
      "metadata": {
        "id": "0b65f91a"
      },
      "outputs": [],
      "source": [
        "df=data[['age','education','balance','duration']]"
      ]
    },
    {
      "cell_type": "code",
      "execution_count": 53,
      "id": "10866fcb",
      "metadata": {
        "id": "10866fcb",
        "outputId": "a7317ed8-a365-440e-975b-d1c20db25854",
        "colab": {
          "base_uri": "https://localhost:8080/",
          "height": 206
        }
      },
      "outputs": [
        {
          "output_type": "execute_result",
          "data": {
            "text/plain": [
              "   age  education  balance  duration\n",
              "0   58   tertiary     2143       261\n",
              "1   44  secondary       29       151\n",
              "2   33  secondary        2        76\n",
              "3   47    unknown     1506        92\n",
              "4   33    unknown        1       198"
            ],
            "text/html": [
              "\n",
              "  <div id=\"df-000f836f-4300-4b1c-8110-467d223a6f05\">\n",
              "    <div class=\"colab-df-container\">\n",
              "      <div>\n",
              "<style scoped>\n",
              "    .dataframe tbody tr th:only-of-type {\n",
              "        vertical-align: middle;\n",
              "    }\n",
              "\n",
              "    .dataframe tbody tr th {\n",
              "        vertical-align: top;\n",
              "    }\n",
              "\n",
              "    .dataframe thead th {\n",
              "        text-align: right;\n",
              "    }\n",
              "</style>\n",
              "<table border=\"1\" class=\"dataframe\">\n",
              "  <thead>\n",
              "    <tr style=\"text-align: right;\">\n",
              "      <th></th>\n",
              "      <th>age</th>\n",
              "      <th>education</th>\n",
              "      <th>balance</th>\n",
              "      <th>duration</th>\n",
              "    </tr>\n",
              "  </thead>\n",
              "  <tbody>\n",
              "    <tr>\n",
              "      <th>0</th>\n",
              "      <td>58</td>\n",
              "      <td>tertiary</td>\n",
              "      <td>2143</td>\n",
              "      <td>261</td>\n",
              "    </tr>\n",
              "    <tr>\n",
              "      <th>1</th>\n",
              "      <td>44</td>\n",
              "      <td>secondary</td>\n",
              "      <td>29</td>\n",
              "      <td>151</td>\n",
              "    </tr>\n",
              "    <tr>\n",
              "      <th>2</th>\n",
              "      <td>33</td>\n",
              "      <td>secondary</td>\n",
              "      <td>2</td>\n",
              "      <td>76</td>\n",
              "    </tr>\n",
              "    <tr>\n",
              "      <th>3</th>\n",
              "      <td>47</td>\n",
              "      <td>unknown</td>\n",
              "      <td>1506</td>\n",
              "      <td>92</td>\n",
              "    </tr>\n",
              "    <tr>\n",
              "      <th>4</th>\n",
              "      <td>33</td>\n",
              "      <td>unknown</td>\n",
              "      <td>1</td>\n",
              "      <td>198</td>\n",
              "    </tr>\n",
              "  </tbody>\n",
              "</table>\n",
              "</div>\n",
              "      <button class=\"colab-df-convert\" onclick=\"convertToInteractive('df-000f836f-4300-4b1c-8110-467d223a6f05')\"\n",
              "              title=\"Convert this dataframe to an interactive table.\"\n",
              "              style=\"display:none;\">\n",
              "        \n",
              "  <svg xmlns=\"http://www.w3.org/2000/svg\" height=\"24px\"viewBox=\"0 0 24 24\"\n",
              "       width=\"24px\">\n",
              "    <path d=\"M0 0h24v24H0V0z\" fill=\"none\"/>\n",
              "    <path d=\"M18.56 5.44l.94 2.06.94-2.06 2.06-.94-2.06-.94-.94-2.06-.94 2.06-2.06.94zm-11 1L8.5 8.5l.94-2.06 2.06-.94-2.06-.94L8.5 2.5l-.94 2.06-2.06.94zm10 10l.94 2.06.94-2.06 2.06-.94-2.06-.94-.94-2.06-.94 2.06-2.06.94z\"/><path d=\"M17.41 7.96l-1.37-1.37c-.4-.4-.92-.59-1.43-.59-.52 0-1.04.2-1.43.59L10.3 9.45l-7.72 7.72c-.78.78-.78 2.05 0 2.83L4 21.41c.39.39.9.59 1.41.59.51 0 1.02-.2 1.41-.59l7.78-7.78 2.81-2.81c.8-.78.8-2.07 0-2.86zM5.41 20L4 18.59l7.72-7.72 1.47 1.35L5.41 20z\"/>\n",
              "  </svg>\n",
              "      </button>\n",
              "      \n",
              "  <style>\n",
              "    .colab-df-container {\n",
              "      display:flex;\n",
              "      flex-wrap:wrap;\n",
              "      gap: 12px;\n",
              "    }\n",
              "\n",
              "    .colab-df-convert {\n",
              "      background-color: #E8F0FE;\n",
              "      border: none;\n",
              "      border-radius: 50%;\n",
              "      cursor: pointer;\n",
              "      display: none;\n",
              "      fill: #1967D2;\n",
              "      height: 32px;\n",
              "      padding: 0 0 0 0;\n",
              "      width: 32px;\n",
              "    }\n",
              "\n",
              "    .colab-df-convert:hover {\n",
              "      background-color: #E2EBFA;\n",
              "      box-shadow: 0px 1px 2px rgba(60, 64, 67, 0.3), 0px 1px 3px 1px rgba(60, 64, 67, 0.15);\n",
              "      fill: #174EA6;\n",
              "    }\n",
              "\n",
              "    [theme=dark] .colab-df-convert {\n",
              "      background-color: #3B4455;\n",
              "      fill: #D2E3FC;\n",
              "    }\n",
              "\n",
              "    [theme=dark] .colab-df-convert:hover {\n",
              "      background-color: #434B5C;\n",
              "      box-shadow: 0px 1px 3px 1px rgba(0, 0, 0, 0.15);\n",
              "      filter: drop-shadow(0px 1px 2px rgba(0, 0, 0, 0.3));\n",
              "      fill: #FFFFFF;\n",
              "    }\n",
              "  </style>\n",
              "\n",
              "      <script>\n",
              "        const buttonEl =\n",
              "          document.querySelector('#df-000f836f-4300-4b1c-8110-467d223a6f05 button.colab-df-convert');\n",
              "        buttonEl.style.display =\n",
              "          google.colab.kernel.accessAllowed ? 'block' : 'none';\n",
              "\n",
              "        async function convertToInteractive(key) {\n",
              "          const element = document.querySelector('#df-000f836f-4300-4b1c-8110-467d223a6f05');\n",
              "          const dataTable =\n",
              "            await google.colab.kernel.invokeFunction('convertToInteractive',\n",
              "                                                     [key], {});\n",
              "          if (!dataTable) return;\n",
              "\n",
              "          const docLinkHtml = 'Like what you see? Visit the ' +\n",
              "            '<a target=\"_blank\" href=https://colab.research.google.com/notebooks/data_table.ipynb>data table notebook</a>'\n",
              "            + ' to learn more about interactive tables.';\n",
              "          element.innerHTML = '';\n",
              "          dataTable['output_type'] = 'display_data';\n",
              "          await google.colab.output.renderOutput(dataTable, element);\n",
              "          const docLink = document.createElement('div');\n",
              "          docLink.innerHTML = docLinkHtml;\n",
              "          element.appendChild(docLink);\n",
              "        }\n",
              "      </script>\n",
              "    </div>\n",
              "  </div>\n",
              "  "
            ]
          },
          "metadata": {},
          "execution_count": 53
        }
      ],
      "source": [
        "df.head()"
      ]
    },
    {
      "cell_type": "markdown",
      "source": [
        "¿Está el nivel de estudios está directamente relacionado con el saldo de cada cliente en la cuenta?"
      ],
      "metadata": {
        "id": "cupM0dTnhmzx"
      },
      "id": "cupM0dTnhmzx"
    },
    {
      "cell_type": "markdown",
      "source": [
        "Para ello estableceremos 3 rangos numéricos: los que tienen deudas, la gente que tiene unos ahorros normales (en positivo, pero menos de 10.000 euros) y los que disponen de suficientes ahorros como para ofrecerles paquetes de inversión (aquellos en positivo con más de 10.000 euros). "
      ],
      "metadata": {
        "id": "9nLKmV9Hh46q"
      },
      "id": "9nLKmV9Hh46q"
    },
    {
      "cell_type": "markdown",
      "source": [
        "Primero, analizaremos los valores NaN que contenga la columna que contiene el nivel de educación de los clientes.\n",
        "\n"
      ],
      "metadata": {
        "id": "ltknRA-2omkN"
      },
      "id": "ltknRA-2omkN"
    },
    {
      "cell_type": "code",
      "source": [
        "df['education'].isna().sum()"
      ],
      "metadata": {
        "id": "aQxaHnPvrmFO",
        "outputId": "9ee21971-5cb9-41fa-b915-fe889becd7b7",
        "colab": {
          "base_uri": "https://localhost:8080/"
        }
      },
      "id": "aQxaHnPvrmFO",
      "execution_count": 54,
      "outputs": [
        {
          "output_type": "execute_result",
          "data": {
            "text/plain": [
              "0"
            ]
          },
          "metadata": {},
          "execution_count": 54
        }
      ]
    },
    {
      "cell_type": "markdown",
      "source": [
        "Ahora que hemos comprobado que no hay ningún valor faltante veamos cuántos niveles de educación están expresados para ver cómo mejor proceder.\n",
        "\n"
      ],
      "metadata": {
        "id": "shhQALcVrn9K"
      },
      "id": "shhQALcVrn9K"
    },
    {
      "cell_type": "code",
      "source": [
        "df['education'].value_counts()\n"
      ],
      "metadata": {
        "id": "VgJmj2aNqD_6",
        "outputId": "b856eb13-0066-40aa-fbfd-ae670cfd808f",
        "colab": {
          "base_uri": "https://localhost:8080/"
        }
      },
      "id": "VgJmj2aNqD_6",
      "execution_count": 55,
      "outputs": [
        {
          "output_type": "execute_result",
          "data": {
            "text/plain": [
              "secondary    23202\n",
              "tertiary     13301\n",
              "primary       6851\n",
              "unknown       1857\n",
              "Name: education, dtype: int64"
            ]
          },
          "metadata": {},
          "execution_count": 55
        }
      ]
    },
    {
      "cell_type": "markdown",
      "source": [
        "Ahora, sabemos que para los niveles de educación de los clientes, hay 4 categorías distintas posibles.\n",
        "Nivel de educación:\n",
        "\n",
        "\n",
        "1.   Primaria        \n",
        "2.   Secundaria      \n",
        "3.   Terciaria       \n",
        "4.   Desconocida     "
      ],
      "metadata": {
        "id": "ElZkiYvRqy0k"
      },
      "id": "ElZkiYvRqy0k"
    },
    {
      "cell_type": "markdown",
      "source": [
        "###Cómo lidiar con datos faltantes\n",
        "\n",
        "Según el proceso CRISP-DM (Cross-Industry Standard Process for Data Mining), las opciones para lidiar con datos faltantes en bases de datos son las siguientes:\n",
        "1.\tEliminación: Eliminar las filas o columnas con datos faltantes.\n",
        "2.\tImputación: Reemplazar los valores faltantes con valores estimados o calculados. Por ejemplo, la imputación media o mediana puede ser utilizada para reemplazar los valores faltantes en una columna con el valor promedio o mediana de esa columna.\n",
        "3.\tInterpolación: Interpolar los valores faltantes utilizando una técnica de estimación, como la interpolación lineal o spline.\n",
        "4.\tModelos predictivos: Utilizar modelos predictivos para estimar los valores faltantes a partir de los datos disponibles.\n",
        "5.\tAlgoritmos de aprendizaje no supervisado: Utilizar algoritmos de clustering o de reducción de dimensionalidad para identificar patrones en los datos y utilizarlos para estimar los valores faltantes.\n",
        "Es importante elegir la técnica adecuada para lidiar con los datos faltantes, considerando el tipo de datos, la cantidad de datos faltantes y su impacto en los resultados de análisis. Es recomendable investigar y evaluar varias opciones antes de tomar una decisión.\n",
        "\n"
      ],
      "metadata": {
        "id": "3KiBtk611efm"
      },
      "id": "3KiBtk611efm"
    },
    {
      "cell_type": "markdown",
      "source": [
        "Ahora, tenemos que decidir cómo vamos a gestionar aquellos clientes cuyo nivel de educación es desconocido. \n",
        "\n",
        "Debido a que nuestro primer problema trata de ilustrar la correlación entre el nivel de educación y el dinero que tienen, es importante que hagamos algo con ellos en mente.\n",
        "\n",
        "Desconocemos la razón por la cual esta infomación es desconocida, agravado por el hecho de desconocer el criterio usado para agrupar a la gente en dichos niveles. \n",
        "\n",
        "¿Tendrán un nivel de educación inferior al requerido para poder haber obtenido el nivel primario? Tal vez no querían divulgar dicha información...\n",
        "\n"
      ],
      "metadata": {
        "id": "NttAooJjsOxZ"
      },
      "id": "NttAooJjsOxZ"
    },
    {
      "cell_type": "markdown",
      "source": [
        "Existen varias opciones respecto a como lidiar con NaN.\n",
        "Una opción (que intentaremos evitar) pero a la que haremos mención sería ver si podríamos eliminar aquellos clientes con nivel de educación desconocida."
      ],
      "metadata": {
        "id": "EpNGJa-OuTv0"
      },
      "id": "EpNGJa-OuTv0"
    },
    {
      "cell_type": "code",
      "source": [
        "df['education'].value_counts().sum()"
      ],
      "metadata": {
        "id": "A6jyvH7uvOV6",
        "outputId": "bd832159-2005-4cf2-c281-79e23ec500df",
        "colab": {
          "base_uri": "https://localhost:8080/"
        }
      },
      "id": "A6jyvH7uvOV6",
      "execution_count": 56,
      "outputs": [
        {
          "output_type": "execute_result",
          "data": {
            "text/plain": [
              "45211"
            ]
          },
          "metadata": {},
          "execution_count": 56
        }
      ]
    },
    {
      "cell_type": "code",
      "source": [
        "print(\"Porcentage de todos los clientes con nivel de educación desconocido: {:.2f}%\".format((1857/45211)*100))"
      ],
      "metadata": {
        "id": "gxQ-yizkxY2f",
        "outputId": "0215508c-b341-44e3-c342-3a8cce384f24",
        "colab": {
          "base_uri": "https://localhost:8080/"
        }
      },
      "id": "gxQ-yizkxY2f",
      "execution_count": 57,
      "outputs": [
        {
          "output_type": "stream",
          "name": "stdout",
          "text": [
            "Porcentage de todos los clientes con nivel de educación desconocido: 4.11%\n"
          ]
        }
      ]
    },
    {
      "cell_type": "markdown",
      "source": [
        "Separaremos los datos "
      ],
      "metadata": {
        "id": "_SS_uer89seS"
      },
      "id": "_SS_uer89seS"
    },
    {
      "cell_type": "markdown",
      "source": [
        "Decidimos eliminar los valores"
      ],
      "metadata": {
        "id": "zcuHHoxaBafN"
      },
      "id": "zcuHHoxaBafN"
    },
    {
      "cell_type": "markdown",
      "source": [
        "Ya sabemos que tendremos que agrupar a los clientes en 3 rangos numéricos según el dinero que actualmente tengan en su cuenta de banco, pero previo a visualizar los datos, "
      ],
      "metadata": {
        "id": "w05-L7DOr8f9"
      },
      "id": "w05-L7DOr8f9"
    },
    {
      "cell_type": "code",
      "source": [
        "filas=len(df.axes[0])\n",
        "for i in range (filas):\n",
        "  if df['balance'][i]<0:\n",
        "    df['balance'][i]='Endeudados'\n",
        "  elif df['balance'][i]<10000:\n",
        "    df['balance'][i]='Balance Positivo'\n",
        "  else:\n",
        "    df['balance'][i]='Potencial Paquete de Inversion'"
      ],
      "metadata": {
        "id": "TY7yIwocBr0P",
        "outputId": "fd6fe208-0174-41f8-b98b-3f8d34df792d",
        "colab": {
          "base_uri": "https://localhost:8080/"
        }
      },
      "id": "TY7yIwocBr0P",
      "execution_count": 58,
      "outputs": [
        {
          "output_type": "stream",
          "name": "stderr",
          "text": [
            "<ipython-input-58-0ce4ef6bfbca>:6: SettingWithCopyWarning: \n",
            "A value is trying to be set on a copy of a slice from a DataFrame\n",
            "\n",
            "See the caveats in the documentation: https://pandas.pydata.org/pandas-docs/stable/user_guide/indexing.html#returning-a-view-versus-a-copy\n",
            "  df['balance'][i]='Balance Positivo'\n",
            "/usr/local/lib/python3.8/dist-packages/pandas/core/indexing.py:1732: SettingWithCopyWarning: \n",
            "A value is trying to be set on a copy of a slice from a DataFrame\n",
            "\n",
            "See the caveats in the documentation: https://pandas.pydata.org/pandas-docs/stable/user_guide/indexing.html#returning-a-view-versus-a-copy\n",
            "  self._setitem_single_block(indexer, value, name)\n",
            "/usr/local/lib/python3.8/dist-packages/pandas/core/series.py:1056: SettingWithCopyWarning: \n",
            "A value is trying to be set on a copy of a slice from a DataFrame\n",
            "\n",
            "See the caveats in the documentation: https://pandas.pydata.org/pandas-docs/stable/user_guide/indexing.html#returning-a-view-versus-a-copy\n",
            "  cacher_needs_updating = self._check_is_chained_assignment_possible()\n"
          ]
        }
      ]
    },
    {
      "cell_type": "code",
      "source": [
        "df.head()"
      ],
      "metadata": {
        "id": "VeAPejeoEVkk",
        "outputId": "17e8f84d-47a5-4cd7-ce80-79f28ff9b454",
        "colab": {
          "base_uri": "https://localhost:8080/",
          "height": 206
        }
      },
      "id": "VeAPejeoEVkk",
      "execution_count": 59,
      "outputs": [
        {
          "output_type": "execute_result",
          "data": {
            "text/plain": [
              "   age  education           balance  duration\n",
              "0   58   tertiary  Balance Positivo       261\n",
              "1   44  secondary  Balance Positivo       151\n",
              "2   33  secondary  Balance Positivo        76\n",
              "3   47    unknown  Balance Positivo        92\n",
              "4   33    unknown  Balance Positivo       198"
            ],
            "text/html": [
              "\n",
              "  <div id=\"df-8d2a087c-95c5-4576-805f-33b2f8937d8f\">\n",
              "    <div class=\"colab-df-container\">\n",
              "      <div>\n",
              "<style scoped>\n",
              "    .dataframe tbody tr th:only-of-type {\n",
              "        vertical-align: middle;\n",
              "    }\n",
              "\n",
              "    .dataframe tbody tr th {\n",
              "        vertical-align: top;\n",
              "    }\n",
              "\n",
              "    .dataframe thead th {\n",
              "        text-align: right;\n",
              "    }\n",
              "</style>\n",
              "<table border=\"1\" class=\"dataframe\">\n",
              "  <thead>\n",
              "    <tr style=\"text-align: right;\">\n",
              "      <th></th>\n",
              "      <th>age</th>\n",
              "      <th>education</th>\n",
              "      <th>balance</th>\n",
              "      <th>duration</th>\n",
              "    </tr>\n",
              "  </thead>\n",
              "  <tbody>\n",
              "    <tr>\n",
              "      <th>0</th>\n",
              "      <td>58</td>\n",
              "      <td>tertiary</td>\n",
              "      <td>Balance Positivo</td>\n",
              "      <td>261</td>\n",
              "    </tr>\n",
              "    <tr>\n",
              "      <th>1</th>\n",
              "      <td>44</td>\n",
              "      <td>secondary</td>\n",
              "      <td>Balance Positivo</td>\n",
              "      <td>151</td>\n",
              "    </tr>\n",
              "    <tr>\n",
              "      <th>2</th>\n",
              "      <td>33</td>\n",
              "      <td>secondary</td>\n",
              "      <td>Balance Positivo</td>\n",
              "      <td>76</td>\n",
              "    </tr>\n",
              "    <tr>\n",
              "      <th>3</th>\n",
              "      <td>47</td>\n",
              "      <td>unknown</td>\n",
              "      <td>Balance Positivo</td>\n",
              "      <td>92</td>\n",
              "    </tr>\n",
              "    <tr>\n",
              "      <th>4</th>\n",
              "      <td>33</td>\n",
              "      <td>unknown</td>\n",
              "      <td>Balance Positivo</td>\n",
              "      <td>198</td>\n",
              "    </tr>\n",
              "  </tbody>\n",
              "</table>\n",
              "</div>\n",
              "      <button class=\"colab-df-convert\" onclick=\"convertToInteractive('df-8d2a087c-95c5-4576-805f-33b2f8937d8f')\"\n",
              "              title=\"Convert this dataframe to an interactive table.\"\n",
              "              style=\"display:none;\">\n",
              "        \n",
              "  <svg xmlns=\"http://www.w3.org/2000/svg\" height=\"24px\"viewBox=\"0 0 24 24\"\n",
              "       width=\"24px\">\n",
              "    <path d=\"M0 0h24v24H0V0z\" fill=\"none\"/>\n",
              "    <path d=\"M18.56 5.44l.94 2.06.94-2.06 2.06-.94-2.06-.94-.94-2.06-.94 2.06-2.06.94zm-11 1L8.5 8.5l.94-2.06 2.06-.94-2.06-.94L8.5 2.5l-.94 2.06-2.06.94zm10 10l.94 2.06.94-2.06 2.06-.94-2.06-.94-.94-2.06-.94 2.06-2.06.94z\"/><path d=\"M17.41 7.96l-1.37-1.37c-.4-.4-.92-.59-1.43-.59-.52 0-1.04.2-1.43.59L10.3 9.45l-7.72 7.72c-.78.78-.78 2.05 0 2.83L4 21.41c.39.39.9.59 1.41.59.51 0 1.02-.2 1.41-.59l7.78-7.78 2.81-2.81c.8-.78.8-2.07 0-2.86zM5.41 20L4 18.59l7.72-7.72 1.47 1.35L5.41 20z\"/>\n",
              "  </svg>\n",
              "      </button>\n",
              "      \n",
              "  <style>\n",
              "    .colab-df-container {\n",
              "      display:flex;\n",
              "      flex-wrap:wrap;\n",
              "      gap: 12px;\n",
              "    }\n",
              "\n",
              "    .colab-df-convert {\n",
              "      background-color: #E8F0FE;\n",
              "      border: none;\n",
              "      border-radius: 50%;\n",
              "      cursor: pointer;\n",
              "      display: none;\n",
              "      fill: #1967D2;\n",
              "      height: 32px;\n",
              "      padding: 0 0 0 0;\n",
              "      width: 32px;\n",
              "    }\n",
              "\n",
              "    .colab-df-convert:hover {\n",
              "      background-color: #E2EBFA;\n",
              "      box-shadow: 0px 1px 2px rgba(60, 64, 67, 0.3), 0px 1px 3px 1px rgba(60, 64, 67, 0.15);\n",
              "      fill: #174EA6;\n",
              "    }\n",
              "\n",
              "    [theme=dark] .colab-df-convert {\n",
              "      background-color: #3B4455;\n",
              "      fill: #D2E3FC;\n",
              "    }\n",
              "\n",
              "    [theme=dark] .colab-df-convert:hover {\n",
              "      background-color: #434B5C;\n",
              "      box-shadow: 0px 1px 3px 1px rgba(0, 0, 0, 0.15);\n",
              "      filter: drop-shadow(0px 1px 2px rgba(0, 0, 0, 0.3));\n",
              "      fill: #FFFFFF;\n",
              "    }\n",
              "  </style>\n",
              "\n",
              "      <script>\n",
              "        const buttonEl =\n",
              "          document.querySelector('#df-8d2a087c-95c5-4576-805f-33b2f8937d8f button.colab-df-convert');\n",
              "        buttonEl.style.display =\n",
              "          google.colab.kernel.accessAllowed ? 'block' : 'none';\n",
              "\n",
              "        async function convertToInteractive(key) {\n",
              "          const element = document.querySelector('#df-8d2a087c-95c5-4576-805f-33b2f8937d8f');\n",
              "          const dataTable =\n",
              "            await google.colab.kernel.invokeFunction('convertToInteractive',\n",
              "                                                     [key], {});\n",
              "          if (!dataTable) return;\n",
              "\n",
              "          const docLinkHtml = 'Like what you see? Visit the ' +\n",
              "            '<a target=\"_blank\" href=https://colab.research.google.com/notebooks/data_table.ipynb>data table notebook</a>'\n",
              "            + ' to learn more about interactive tables.';\n",
              "          element.innerHTML = '';\n",
              "          dataTable['output_type'] = 'display_data';\n",
              "          await google.colab.output.renderOutput(dataTable, element);\n",
              "          const docLink = document.createElement('div');\n",
              "          docLink.innerHTML = docLinkHtml;\n",
              "          element.appendChild(docLink);\n",
              "        }\n",
              "      </script>\n",
              "    </div>\n",
              "  </div>\n",
              "  "
            ]
          },
          "metadata": {},
          "execution_count": 59
        }
      ]
    },
    {
      "cell_type": "code",
      "source": [
        "df['balance'].value_counts()"
      ],
      "metadata": {
        "id": "4Fz-qdPNEbeJ",
        "outputId": "a5d61d68-6d4c-4385-b355-fbd89388cdef",
        "colab": {
          "base_uri": "https://localhost:8080/"
        }
      },
      "id": "4Fz-qdPNEbeJ",
      "execution_count": 60,
      "outputs": [
        {
          "output_type": "execute_result",
          "data": {
            "text/plain": [
              "Balance Positivo                  40616\n",
              "Endeudados                         3766\n",
              "Potencial Paquete de Inversion      829\n",
              "Name: balance, dtype: int64"
            ]
          },
          "metadata": {},
          "execution_count": 60
        }
      ]
    },
    {
      "cell_type": "code",
      "source": [
        "import matplotlib.pyplot as plt\n",
        "import numpy as np\n",
        "A=[2,4,6,8]\n",
        "B=[2.8,3.5,6.5,7.7]\n",
        "\n",
        "X=np.arange(len(A))\n",
        "plt.bar(X,A,color=\"red\",width=0.35)\n",
        "plt.bar(X+0.35,B,color=\"blue\",width=0.35)\n",
        "plt.show()\n"
      ],
      "metadata": {
        "id": "DrX2KsqlEQlc",
        "outputId": "06f65750-4986-43ef-c712-a49edded1b8b",
        "colab": {
          "base_uri": "https://localhost:8080/",
          "height": 265
        }
      },
      "id": "DrX2KsqlEQlc",
      "execution_count": 65,
      "outputs": [
        {
          "output_type": "display_data",
          "data": {
            "text/plain": [
              "<Figure size 432x288 with 1 Axes>"
            ],
            "image/png": "[encoded data removed]"
          },
          "metadata": {
            "needs_background": "light"
          }
        }
      ]
    },
    {
      "cell_type": "markdown",
      "source": [
        "¿Qué diagrama has usado y por qué? \n"
      ],
      "metadata": {
        "id": "UtfP_kA5h-2_"
      },
      "id": "UtfP_kA5h-2_"
    },
    {
      "cell_type": "code",
      "source": [],
      "metadata": {
        "id": "eGUkQxXlsCt1"
      },
      "id": "eGUkQxXlsCt1",
      "execution_count": 61,
      "outputs": []
    },
    {
      "cell_type": "markdown",
      "source": [
        "¿Cuál es el grupo que más destaca? "
      ],
      "metadata": {
        "id": "XHeTLpaXiMGL"
      },
      "id": "XHeTLpaXiMGL"
    },
    {
      "cell_type": "markdown",
      "source": [
        "Aporta toda la información que creas necesaria que puedes obtener de la gráfica."
      ],
      "metadata": {
        "id": "DF5lKNDviNhx"
      },
      "id": "DF5lKNDviNhx"
    },
    {
      "cell_type": "markdown",
      "source": [
        "##Apartado 2"
      ],
      "metadata": {
        "id": "0yMkvEebkl3T"
      },
      "id": "0yMkvEebkl3T"
    },
    {
      "cell_type": "markdown",
      "source": [
        "¿Cuál es el grupo de edad que tiene más clientes?\n",
        "\n",
        "Esto nos permitirá saber si los alumnos usan la cuenta creada a través de la Universidad o no."
      ],
      "metadata": {
        "id": "CfrnxYnukrai"
      },
      "id": "CfrnxYnukrai"
    },
    {
      "cell_type": "markdown",
      "source": [
        "##Apartado 3"
      ],
      "metadata": {
        "id": "XXcoOB27koaJ"
      },
      "id": "XXcoOB27koaJ"
    }
  ],
  "metadata": {
    "kernelspec": {
      "display_name": "Python 3 (ipykernel)",
      "language": "python",
      "name": "python3"
    },
    "language_info": {
      "codemirror_mode": {
        "name": "ipython",
        "version": 3
      },
      "file_extension": ".py",
      "mimetype": "text/x-python",
      "name": "python",
      "nbconvert_exporter": "python",
      "pygments_lexer": "ipython3",
      "version": "3.8.8"
    },
    "colab": {
      "provenance": []
    }
  },
  "nbformat": 4,
  "nbformat_minor": 5
}