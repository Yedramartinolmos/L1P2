{
  "cells": [
    {
      "cell_type": "markdown",
      "metadata": {
        "id": "view-in-github",
        "colab_type": "text"
      },
      "source": [
        "<a href=\"https://colab.research.google.com/github/Yedramartinolmos/L1P2/blob/main/Copia_de_banco_ufv.ipynb\" target=\"_parent\"><img src=\"https://colab.research.google.com/assets/colab-badge.svg\" alt=\"Open In Colab\"/></a>"
      ]
    },
    {
      "cell_type": "markdown",
      "source": [
        "PILAR ARIAS, YEDRA MARTÍN, PATRICIA MEDIAVILLA, AMAYA SARASA\n",
        "\n",
        "<GRUPO 9>"
      ],
      "metadata": {
        "id": "kHEnWZsNJqxf"
      },
      "id": "kHEnWZsNJqxf"
    },
    {
      "cell_type": "markdown",
      "source": [
        "#Práctica 2"
      ],
      "metadata": {
        "id": "D1BN2uCfubc1"
      },
      "id": "D1BN2uCfubc1"
    },
    {
      "cell_type": "markdown",
      "source": [
        "##INTRODUCCIÓN"
      ],
      "metadata": {
        "id": "W_B14sgMKNmZ"
      },
      "id": "W_B14sgMKNmZ"
    },
    {
      "cell_type": "markdown",
      "source": [
        "Esta es la segunda práctica del primer laboratorio. Dada una base de datos en formato .csv, se nos pide contestar a una serie de cuestiones. Para ello, lo primero que debemos hacer es cargar y leer la base de datos:"
      ],
      "metadata": {
        "id": "VlRcgemyKVhj"
      },
      "id": "VlRcgemyKVhj"
    },
    {
      "cell_type": "code",
      "execution_count": 67,
      "id": "e96c2f3c",
      "metadata": {
        "id": "e96c2f3c",
        "outputId": "a4f2912f-d3b8-49aa-fa11-92ccfbd7d827",
        "colab": {
          "base_uri": "https://localhost:8080/",
          "height": 623
        }
      },
      "outputs": [
        {
          "output_type": "stream",
          "name": "stdout",
          "text": [
            "<class 'pandas.core.frame.DataFrame'>\n",
            "RangeIndex: 45211 entries, 0 to 45210\n",
            "Data columns (total 17 columns):\n",
            " #   Column     Non-Null Count  Dtype \n",
            "---  ------     --------------  ----- \n",
            " 0   age        45211 non-null  int64 \n",
            " 1   job        45211 non-null  object\n",
            " 2   marital    45211 non-null  object\n",
            " 3   education  45211 non-null  object\n",
            " 4   default    45211 non-null  object\n",
            " 5   balance    45211 non-null  int64 \n",
            " 6   housing    45211 non-null  object\n",
            " 7   loan       45211 non-null  object\n",
            " 8   contact    45211 non-null  object\n",
            " 9   day        45211 non-null  int64 \n",
            " 10  month      45211 non-null  object\n",
            " 11  duration   45211 non-null  int64 \n",
            " 12  campaign   45211 non-null  int64 \n",
            " 13  pdays      45211 non-null  int64 \n",
            " 14  previous   45211 non-null  int64 \n",
            " 15  poutcome   45211 non-null  object\n",
            " 16  y          45211 non-null  object\n",
            "dtypes: int64(7), object(10)\n",
            "memory usage: 5.9+ MB\n"
          ]
        },
        {
          "output_type": "execute_result",
          "data": {
            "text/plain": [
              "   age           job  marital  education default  balance housing loan  \\\n",
              "0   58    management  married   tertiary      no     2143     yes   no   \n",
              "1   44    technician   single  secondary      no       29     yes   no   \n",
              "2   33  entrepreneur  married  secondary      no        2     yes  yes   \n",
              "3   47   blue-collar  married    unknown      no     1506     yes   no   \n",
              "4   33       unknown   single    unknown      no        1      no   no   \n",
              "\n",
              "   contact  day month  duration  campaign  pdays  previous poutcome   y  \n",
              "0  unknown    5   may       261         1     -1         0  unknown  no  \n",
              "1  unknown    5   may       151         1     -1         0  unknown  no  \n",
              "2  unknown    5   may        76         1     -1         0  unknown  no  \n",
              "3  unknown    5   may        92         1     -1         0  unknown  no  \n",
              "4  unknown    5   may       198         1     -1         0  unknown  no  "
            ],
            "text/html": [
              "\n",
              "  <div id=\"df-476ac1a2-7687-4343-9ccb-13aedf049470\">\n",
              "    <div class=\"colab-df-container\">\n",
              "      <div>\n",
              "<style scoped>\n",
              "    .dataframe tbody tr th:only-of-type {\n",
              "        vertical-align: middle;\n",
              "    }\n",
              "\n",
              "    .dataframe tbody tr th {\n",
              "        vertical-align: top;\n",
              "    }\n",
              "\n",
              "    .dataframe thead th {\n",
              "        text-align: right;\n",
              "    }\n",
              "</style>\n",
              "<table border=\"1\" class=\"dataframe\">\n",
              "  <thead>\n",
              "    <tr style=\"text-align: right;\">\n",
              "      <th></th>\n",
              "      <th>age</th>\n",
              "      <th>job</th>\n",
              "      <th>marital</th>\n",
              "      <th>education</th>\n",
              "      <th>default</th>\n",
              "      <th>balance</th>\n",
              "      <th>housing</th>\n",
              "      <th>loan</th>\n",
              "      <th>contact</th>\n",
              "      <th>day</th>\n",
              "      <th>month</th>\n",
              "      <th>duration</th>\n",
              "      <th>campaign</th>\n",
              "      <th>pdays</th>\n",
              "      <th>previous</th>\n",
              "      <th>poutcome</th>\n",
              "      <th>y</th>\n",
              "    </tr>\n",
              "  </thead>\n",
              "  <tbody>\n",
              "    <tr>\n",
              "      <th>0</th>\n",
              "      <td>58</td>\n",
              "      <td>management</td>\n",
              "      <td>married</td>\n",
              "      <td>tertiary</td>\n",
              "      <td>no</td>\n",
              "      <td>2143</td>\n",
              "      <td>yes</td>\n",
              "      <td>no</td>\n",
              "      <td>unknown</td>\n",
              "      <td>5</td>\n",
              "      <td>may</td>\n",
              "      <td>261</td>\n",
              "      <td>1</td>\n",
              "      <td>-1</td>\n",
              "      <td>0</td>\n",
              "      <td>unknown</td>\n",
              "      <td>no</td>\n",
              "    </tr>\n",
              "    <tr>\n",
              "      <th>1</th>\n",
              "      <td>44</td>\n",
              "      <td>technician</td>\n",
              "      <td>single</td>\n",
              "      <td>secondary</td>\n",
              "      <td>no</td>\n",
              "      <td>29</td>\n",
              "      <td>yes</td>\n",
              "      <td>no</td>\n",
              "      <td>unknown</td>\n",
              "      <td>5</td>\n",
              "      <td>may</td>\n",
              "      <td>151</td>\n",
              "      <td>1</td>\n",
              "      <td>-1</td>\n",
              "      <td>0</td>\n",
              "      <td>unknown</td>\n",
              "      <td>no</td>\n",
              "    </tr>\n",
              "    <tr>\n",
              "      <th>2</th>\n",
              "      <td>33</td>\n",
              "      <td>entrepreneur</td>\n",
              "      <td>married</td>\n",
              "      <td>secondary</td>\n",
              "      <td>no</td>\n",
              "      <td>2</td>\n",
              "      <td>yes</td>\n",
              "      <td>yes</td>\n",
              "      <td>unknown</td>\n",
              "      <td>5</td>\n",
              "      <td>may</td>\n",
              "      <td>76</td>\n",
              "      <td>1</td>\n",
              "      <td>-1</td>\n",
              "      <td>0</td>\n",
              "      <td>unknown</td>\n",
              "      <td>no</td>\n",
              "    </tr>\n",
              "    <tr>\n",
              "      <th>3</th>\n",
              "      <td>47</td>\n",
              "      <td>blue-collar</td>\n",
              "      <td>married</td>\n",
              "      <td>unknown</td>\n",
              "      <td>no</td>\n",
              "      <td>1506</td>\n",
              "      <td>yes</td>\n",
              "      <td>no</td>\n",
              "      <td>unknown</td>\n",
              "      <td>5</td>\n",
              "      <td>may</td>\n",
              "      <td>92</td>\n",
              "      <td>1</td>\n",
              "      <td>-1</td>\n",
              "      <td>0</td>\n",
              "      <td>unknown</td>\n",
              "      <td>no</td>\n",
              "    </tr>\n",
              "    <tr>\n",
              "      <th>4</th>\n",
              "      <td>33</td>\n",
              "      <td>unknown</td>\n",
              "      <td>single</td>\n",
              "      <td>unknown</td>\n",
              "      <td>no</td>\n",
              "      <td>1</td>\n",
              "      <td>no</td>\n",
              "      <td>no</td>\n",
              "      <td>unknown</td>\n",
              "      <td>5</td>\n",
              "      <td>may</td>\n",
              "      <td>198</td>\n",
              "      <td>1</td>\n",
              "      <td>-1</td>\n",
              "      <td>0</td>\n",
              "      <td>unknown</td>\n",
              "      <td>no</td>\n",
              "    </tr>\n",
              "  </tbody>\n",
              "</table>\n",
              "</div>\n",
              "      <button class=\"colab-df-convert\" onclick=\"convertToInteractive('df-476ac1a2-7687-4343-9ccb-13aedf049470')\"\n",
              "              title=\"Convert this dataframe to an interactive table.\"\n",
              "              style=\"display:none;\">\n",
              "        \n",
              "  <svg xmlns=\"http://www.w3.org/2000/svg\" height=\"24px\"viewBox=\"0 0 24 24\"\n",
              "       width=\"24px\">\n",
              "    <path d=\"M0 0h24v24H0V0z\" fill=\"none\"/>\n",
              "    <path d=\"M18.56 5.44l.94 2.06.94-2.06 2.06-.94-2.06-.94-.94-2.06-.94 2.06-2.06.94zm-11 1L8.5 8.5l.94-2.06 2.06-.94-2.06-.94L8.5 2.5l-.94 2.06-2.06.94zm10 10l.94 2.06.94-2.06 2.06-.94-2.06-.94-.94-2.06-.94 2.06-2.06.94z\"/><path d=\"M17.41 7.96l-1.37-1.37c-.4-.4-.92-.59-1.43-.59-.52 0-1.04.2-1.43.59L10.3 9.45l-7.72 7.72c-.78.78-.78 2.05 0 2.83L4 21.41c.39.39.9.59 1.41.59.51 0 1.02-.2 1.41-.59l7.78-7.78 2.81-2.81c.8-.78.8-2.07 0-2.86zM5.41 20L4 18.59l7.72-7.72 1.47 1.35L5.41 20z\"/>\n",
              "  </svg>\n",
              "      </button>\n",
              "      \n",
              "  <style>\n",
              "    .colab-df-container {\n",
              "      display:flex;\n",
              "      flex-wrap:wrap;\n",
              "      gap: 12px;\n",
              "    }\n",
              "\n",
              "    .colab-df-convert {\n",
              "      background-color: #E8F0FE;\n",
              "      border: none;\n",
              "      border-radius: 50%;\n",
              "      cursor: pointer;\n",
              "      display: none;\n",
              "      fill: #1967D2;\n",
              "      height: 32px;\n",
              "      padding: 0 0 0 0;\n",
              "      width: 32px;\n",
              "    }\n",
              "\n",
              "    .colab-df-convert:hover {\n",
              "      background-color: #E2EBFA;\n",
              "      box-shadow: 0px 1px 2px rgba(60, 64, 67, 0.3), 0px 1px 3px 1px rgba(60, 64, 67, 0.15);\n",
              "      fill: #174EA6;\n",
              "    }\n",
              "\n",
              "    [theme=dark] .colab-df-convert {\n",
              "      background-color: #3B4455;\n",
              "      fill: #D2E3FC;\n",
              "    }\n",
              "\n",
              "    [theme=dark] .colab-df-convert:hover {\n",
              "      background-color: #434B5C;\n",
              "      box-shadow: 0px 1px 3px 1px rgba(0, 0, 0, 0.15);\n",
              "      filter: drop-shadow(0px 1px 2px rgba(0, 0, 0, 0.3));\n",
              "      fill: #FFFFFF;\n",
              "    }\n",
              "  </style>\n",
              "\n",
              "      <script>\n",
              "        const buttonEl =\n",
              "          document.querySelector('#df-476ac1a2-7687-4343-9ccb-13aedf049470 button.colab-df-convert');\n",
              "        buttonEl.style.display =\n",
              "          google.colab.kernel.accessAllowed ? 'block' : 'none';\n",
              "\n",
              "        async function convertToInteractive(key) {\n",
              "          const element = document.querySelector('#df-476ac1a2-7687-4343-9ccb-13aedf049470');\n",
              "          const dataTable =\n",
              "            await google.colab.kernel.invokeFunction('convertToInteractive',\n",
              "                                                     [key], {});\n",
              "          if (!dataTable) return;\n",
              "\n",
              "          const docLinkHtml = 'Like what you see? Visit the ' +\n",
              "            '<a target=\"_blank\" href=https://colab.research.google.com/notebooks/data_table.ipynb>data table notebook</a>'\n",
              "            + ' to learn more about interactive tables.';\n",
              "          element.innerHTML = '';\n",
              "          dataTable['output_type'] = 'display_data';\n",
              "          await google.colab.output.renderOutput(dataTable, element);\n",
              "          const docLink = document.createElement('div');\n",
              "          docLink.innerHTML = docLinkHtml;\n",
              "          element.appendChild(docLink);\n",
              "        }\n",
              "      </script>\n",
              "    </div>\n",
              "  </div>\n",
              "  "
            ]
          },
          "metadata": {},
          "execution_count": 67
        }
      ],
      "source": [
        "#Importamos las librerías y la base de datos necesarias\n",
        "\n",
        "import numpy as np #numpy\n",
        "import pandas as pd #pandas\n",
        "import sklearn as sk #scikit-learn\n",
        "import matplotlib.pyplot as plt #gráfica Matplotlib\n",
        "\n",
        "df = pd.read_csv('banco_ufv.csv',sep=';')\n",
        "df.info()\n",
        "df.head()"
      ]
    },
    {
      "cell_type": "markdown",
      "source": [
        "Subimos la base de datos, df.info nos aporta la infomación que contiene la base de datos, vemos las variables, el tipo de las variables con las que trabajamos... y .head vamos a ver que foram tiene la base de datos y las primeras filas de esta."
      ],
      "metadata": {
        "id": "zckW9TXIs6DB"
      },
      "id": "zckW9TXIs6DB"
    },
    {
      "cell_type": "markdown",
      "source": [
        "Según se ha estudiado en clase, encontramos dos métodos para afrontarlo. Nos decantaremos por CRISP-DM. Las siglas para: CRoss-Industry Standard Process for Data Mining. \n",
        "\n",
        "Es un modelo de proceso de minería de datos que se utiliza en la industria. Es un marco de trabajo que define un proceso estandarizado para llevar a cabo proyectos de minería de datos, desde la definición del problema hasta la implementación y evaluación del resultado."
      ],
      "metadata": {
        "id": "g397Sp0DuT8O"
      },
      "id": "g397Sp0DuT8O"
    },
    {
      "cell_type": "markdown",
      "source": [
        "## Comprensión del negocio y definición del problema.\n",
        "\n",
        "La sucursal del Banco Santander situada en el campus de la Universidad Francisco de Vitoria nos solicita hacer varios estudios de sus clientes. \n",
        "\n",
        "Para ello haremos uso de un dataset proporcionado por la propia sucursal que \n",
        "se puede encontrar en Moodle.\n",
        "\n",
        "\n",
        "\n",
        "\n"
      ],
      "metadata": {
        "id": "6EKBOjDFIV6p"
      },
      "id": "6EKBOjDFIV6p"
    },
    {
      "cell_type": "markdown",
      "source": [
        "## Comprensión de los datos\n",
        "\n",
        "La base de datos que utilizaremos consta de 45211 observaciones\n",
        "\n",
        "Existen 17 tipos de atributos distintos entre ellos: age, job, marital y muchos más.\n",
        "\n",
        "Siguiendo las especificaciones dadas, para poder resolver todas las dudas que se nos plantearán solo requeriremos trabajar con los siguientes 4 atributos.\n",
        "\n",
        "- age (edad)\n",
        "- education (nivel de educación)\n",
        "- balance (balance de la cuenta)\n",
        "- duration (tiempo que llevan como clientes)\n",
        "\n",
        "Por lo tanto seguiremos adelante solo considerando estos 4 atributos, lo que positivamente afectará nuestra rapidez a la hora de avanzar en la resolución de los problemas planteados."
      ],
      "metadata": {
        "id": "3Ncb60qeMd47"
      },
      "id": "3Ncb60qeMd47"
    },
    {
      "cell_type": "code",
      "execution_count": 68,
      "id": "0b65f91a",
      "metadata": {
        "id": "0b65f91a",
        "outputId": "48ea5cab-b75f-4614-d2ab-7e3d7fb13fd6",
        "colab": {
          "base_uri": "https://localhost:8080/",
          "height": 206
        }
      },
      "outputs": [
        {
          "output_type": "execute_result",
          "data": {
            "text/plain": [
              "   age  education  balance  duration\n",
              "0   58   tertiary     2143       261\n",
              "1   44  secondary       29       151\n",
              "2   33  secondary        2        76\n",
              "3   47    unknown     1506        92\n",
              "4   33    unknown        1       198"
            ],
            "text/html": [
              "\n",
              "  <div id=\"df-11d4f8a1-fb0d-4f49-9c58-a1b0f3f2e1ef\">\n",
              "    <div class=\"colab-df-container\">\n",
              "      <div>\n",
              "<style scoped>\n",
              "    .dataframe tbody tr th:only-of-type {\n",
              "        vertical-align: middle;\n",
              "    }\n",
              "\n",
              "    .dataframe tbody tr th {\n",
              "        vertical-align: top;\n",
              "    }\n",
              "\n",
              "    .dataframe thead th {\n",
              "        text-align: right;\n",
              "    }\n",
              "</style>\n",
              "<table border=\"1\" class=\"dataframe\">\n",
              "  <thead>\n",
              "    <tr style=\"text-align: right;\">\n",
              "      <th></th>\n",
              "      <th>age</th>\n",
              "      <th>education</th>\n",
              "      <th>balance</th>\n",
              "      <th>duration</th>\n",
              "    </tr>\n",
              "  </thead>\n",
              "  <tbody>\n",
              "    <tr>\n",
              "      <th>0</th>\n",
              "      <td>58</td>\n",
              "      <td>tertiary</td>\n",
              "      <td>2143</td>\n",
              "      <td>261</td>\n",
              "    </tr>\n",
              "    <tr>\n",
              "      <th>1</th>\n",
              "      <td>44</td>\n",
              "      <td>secondary</td>\n",
              "      <td>29</td>\n",
              "      <td>151</td>\n",
              "    </tr>\n",
              "    <tr>\n",
              "      <th>2</th>\n",
              "      <td>33</td>\n",
              "      <td>secondary</td>\n",
              "      <td>2</td>\n",
              "      <td>76</td>\n",
              "    </tr>\n",
              "    <tr>\n",
              "      <th>3</th>\n",
              "      <td>47</td>\n",
              "      <td>unknown</td>\n",
              "      <td>1506</td>\n",
              "      <td>92</td>\n",
              "    </tr>\n",
              "    <tr>\n",
              "      <th>4</th>\n",
              "      <td>33</td>\n",
              "      <td>unknown</td>\n",
              "      <td>1</td>\n",
              "      <td>198</td>\n",
              "    </tr>\n",
              "  </tbody>\n",
              "</table>\n",
              "</div>\n",
              "      <button class=\"colab-df-convert\" onclick=\"convertToInteractive('df-11d4f8a1-fb0d-4f49-9c58-a1b0f3f2e1ef')\"\n",
              "              title=\"Convert this dataframe to an interactive table.\"\n",
              "              style=\"display:none;\">\n",
              "        \n",
              "  <svg xmlns=\"http://www.w3.org/2000/svg\" height=\"24px\"viewBox=\"0 0 24 24\"\n",
              "       width=\"24px\">\n",
              "    <path d=\"M0 0h24v24H0V0z\" fill=\"none\"/>\n",
              "    <path d=\"M18.56 5.44l.94 2.06.94-2.06 2.06-.94-2.06-.94-.94-2.06-.94 2.06-2.06.94zm-11 1L8.5 8.5l.94-2.06 2.06-.94-2.06-.94L8.5 2.5l-.94 2.06-2.06.94zm10 10l.94 2.06.94-2.06 2.06-.94-2.06-.94-.94-2.06-.94 2.06-2.06.94z\"/><path d=\"M17.41 7.96l-1.37-1.37c-.4-.4-.92-.59-1.43-.59-.52 0-1.04.2-1.43.59L10.3 9.45l-7.72 7.72c-.78.78-.78 2.05 0 2.83L4 21.41c.39.39.9.59 1.41.59.51 0 1.02-.2 1.41-.59l7.78-7.78 2.81-2.81c.8-.78.8-2.07 0-2.86zM5.41 20L4 18.59l7.72-7.72 1.47 1.35L5.41 20z\"/>\n",
              "  </svg>\n",
              "      </button>\n",
              "      \n",
              "  <style>\n",
              "    .colab-df-container {\n",
              "      display:flex;\n",
              "      flex-wrap:wrap;\n",
              "      gap: 12px;\n",
              "    }\n",
              "\n",
              "    .colab-df-convert {\n",
              "      background-color: #E8F0FE;\n",
              "      border: none;\n",
              "      border-radius: 50%;\n",
              "      cursor: pointer;\n",
              "      display: none;\n",
              "      fill: #1967D2;\n",
              "      height: 32px;\n",
              "      padding: 0 0 0 0;\n",
              "      width: 32px;\n",
              "    }\n",
              "\n",
              "    .colab-df-convert:hover {\n",
              "      background-color: #E2EBFA;\n",
              "      box-shadow: 0px 1px 2px rgba(60, 64, 67, 0.3), 0px 1px 3px 1px rgba(60, 64, 67, 0.15);\n",
              "      fill: #174EA6;\n",
              "    }\n",
              "\n",
              "    [theme=dark] .colab-df-convert {\n",
              "      background-color: #3B4455;\n",
              "      fill: #D2E3FC;\n",
              "    }\n",
              "\n",
              "    [theme=dark] .colab-df-convert:hover {\n",
              "      background-color: #434B5C;\n",
              "      box-shadow: 0px 1px 3px 1px rgba(0, 0, 0, 0.15);\n",
              "      filter: drop-shadow(0px 1px 2px rgba(0, 0, 0, 0.3));\n",
              "      fill: #FFFFFF;\n",
              "    }\n",
              "  </style>\n",
              "\n",
              "      <script>\n",
              "        const buttonEl =\n",
              "          document.querySelector('#df-11d4f8a1-fb0d-4f49-9c58-a1b0f3f2e1ef button.colab-df-convert');\n",
              "        buttonEl.style.display =\n",
              "          google.colab.kernel.accessAllowed ? 'block' : 'none';\n",
              "\n",
              "        async function convertToInteractive(key) {\n",
              "          const element = document.querySelector('#df-11d4f8a1-fb0d-4f49-9c58-a1b0f3f2e1ef');\n",
              "          const dataTable =\n",
              "            await google.colab.kernel.invokeFunction('convertToInteractive',\n",
              "                                                     [key], {});\n",
              "          if (!dataTable) return;\n",
              "\n",
              "          const docLinkHtml = 'Like what you see? Visit the ' +\n",
              "            '<a target=\"_blank\" href=https://colab.research.google.com/notebooks/data_table.ipynb>data table notebook</a>'\n",
              "            + ' to learn more about interactive tables.';\n",
              "          element.innerHTML = '';\n",
              "          dataTable['output_type'] = 'display_data';\n",
              "          await google.colab.output.renderOutput(dataTable, element);\n",
              "          const docLink = document.createElement('div');\n",
              "          docLink.innerHTML = docLinkHtml;\n",
              "          element.appendChild(docLink);\n",
              "        }\n",
              "      </script>\n",
              "    </div>\n",
              "  </div>\n",
              "  "
            ]
          },
          "metadata": {},
          "execution_count": 68
        }
      ],
      "source": [
        "from pandas.core.groupby.ops import DataFrame\n",
        "#Reducimos nuestra base da datos a las varibales necesarias\n",
        "df=df[['age','education','balance','duration']]\n",
        "df.head()"
      ]
    },
    {
      "cell_type": "markdown",
      "source": [
        "## Preparación de los datos\n",
        "\n",
        "Para poder trabjar con los datos, lo primero que debemos hacer es observar si todos los datos son correctos, si son útiles, ver maneras de normalizarlos para optimizar el algoritmo...\n",
        "\n",
        "Lo primero que vamos a ver es sie stán completos, es decir si existen NaN en nuestra base de datos."
      ],
      "metadata": {
        "id": "BK8WCpG3vO2M"
      },
      "id": "BK8WCpG3vO2M"
    },
    {
      "cell_type": "code",
      "source": [
        "age_nan = df['age'].isna().sum()\n",
        "print(f\"La cantidad de NaN que existen en la variable age es:{age_nan}\")\n",
        "education_nan = df['education'].isna().sum()\n",
        "print(f\"La cantidad de NaN que existen en la variable education es:{education_nan}\")\n",
        "balance_nan = df['balance'].isna().sum()\n",
        "print(f\"La cantidad de NaN que existen en la variable balance es:{balance_nan}\")\n",
        "duration_nan = df['duration'].isna().sum()\n",
        "print(f\"La cantidad de NaN que existen en la variable duration es:{duration_nan}\")"
      ],
      "metadata": {
        "id": "J-wAUBAOwyWN",
        "outputId": "a41563a2-78f6-45a3-d747-c47c0809dce5",
        "colab": {
          "base_uri": "https://localhost:8080/"
        }
      },
      "id": "J-wAUBAOwyWN",
      "execution_count": 69,
      "outputs": [
        {
          "output_type": "stream",
          "name": "stdout",
          "text": [
            "La cantidad de NaN que existen en la variable age es:0\n",
            "La cantidad de NaN que existen en la variable education es:0\n",
            "La cantidad de NaN que existen en la variable balance es:0\n",
            "La cantidad de NaN que existen en la variable duration es:0\n"
          ]
        }
      ]
    },
    {
      "cell_type": "markdown",
      "source": [
        "En ninguna de nuestras variables hay datos faltantes, pero vamos a representarlas con un diagrama de cajas para ver si hay outliers y para entender mejro como se distribuyen los datos. ESto lo haremos con las variables: age, balnace y duration ya que eduaction no es una variable numérica y no se puede aplicar este método a esta variable en concreto."
      ],
      "metadata": {
        "id": "XuqvoCzZzBv0"
      },
      "id": "XuqvoCzZzBv0"
    },
    {
      "cell_type": "code",
      "source": [
        "df['age'].plot(kind='box', title='Age')"
      ],
      "metadata": {
        "id": "IsvpxYwAzVsa",
        "outputId": "4830cccf-58d8-4268-8450-784596820be6",
        "colab": {
          "base_uri": "https://localhost:8080/",
          "height": 298
        }
      },
      "id": "IsvpxYwAzVsa",
      "execution_count": 70,
      "outputs": [
        {
          "output_type": "execute_result",
          "data": {
            "text/plain": [
              "<matplotlib.axes._subplots.AxesSubplot at 0x7feeb90b2fa0>"
            ]
          },
          "metadata": {},
          "execution_count": 70
        },
        {
          "output_type": "display_data",
          "data": {
            "text/plain": [
              "<Figure size 432x288 with 1 Axes>"
            ],
            "image/png": "[encoded data removed]"
          },
          "metadata": {
            "needs_background": "light"
          }
        }
      ]
    },
    {
      "cell_type": "code",
      "source": [
        "df['balance'].plot(kind='box', title='Balance')"
      ],
      "metadata": {
        "id": "VJAk3smc0Z6I",
        "outputId": "966b9830-711c-489a-eea0-128a452b92df",
        "colab": {
          "base_uri": "https://localhost:8080/",
          "height": 298
        }
      },
      "id": "VJAk3smc0Z6I",
      "execution_count": 71,
      "outputs": [
        {
          "output_type": "execute_result",
          "data": {
            "text/plain": [
              "<matplotlib.axes._subplots.AxesSubplot at 0x7feeb900e610>"
            ]
          },
          "metadata": {},
          "execution_count": 71
        },
        {
          "output_type": "display_data",
          "data": {
            "text/plain": [
              "<Figure size 432x288 with 1 Axes>"
            ],
            "image/png": "[encoded data removed]"
          },
          "metadata": {
            "needs_background": "light"
          }
        }
      ]
    },
    {
      "cell_type": "code",
      "source": [
        "df['duration'].plot(kind='box', title='Duration')"
      ],
      "metadata": {
        "id": "CIqFEclo0bkd",
        "outputId": "b9102979-e058-4a74-ad97-d1db635aacb6",
        "colab": {
          "base_uri": "https://localhost:8080/",
          "height": 298
        }
      },
      "id": "CIqFEclo0bkd",
      "execution_count": 72,
      "outputs": [
        {
          "output_type": "execute_result",
          "data": {
            "text/plain": [
              "<matplotlib.axes._subplots.AxesSubplot at 0x7feeb8f75b50>"
            ]
          },
          "metadata": {},
          "execution_count": 72
        },
        {
          "output_type": "display_data",
          "data": {
            "text/plain": [
              "<Figure size 432x288 with 1 Axes>"
            ],
            "image/png": "[encoded data removed]"
          },
          "metadata": {
            "needs_background": "light"
          }
        }
      ]
    },
    {
      "cell_type": "code",
      "source": [
        "df['education'].value_counts().plot(kind='pie', title='Education')"
      ],
      "metadata": {
        "id": "D3RIHKAv1pCi",
        "outputId": "d00831cf-750f-4d80-b0da-fb9fa7bf5366",
        "colab": {
          "base_uri": "https://localhost:8080/",
          "height": 281
        }
      },
      "id": "D3RIHKAv1pCi",
      "execution_count": 73,
      "outputs": [
        {
          "output_type": "execute_result",
          "data": {
            "text/plain": [
              "<matplotlib.axes._subplots.AxesSubplot at 0x7feeb8f4b8b0>"
            ]
          },
          "metadata": {},
          "execution_count": 73
        },
        {
          "output_type": "display_data",
          "data": {
            "text/plain": [
              "<Figure size 432x288 with 1 Axes>"
            ],
            "image/png": "[encoded data removed]"
          },
          "metadata": {}
        }
      ]
    },
    {
      "cell_type": "markdown",
      "source": [
        "Al observar esta gráfica, además de ver las probabilidades de cada tipo de educación también observamos que no se se sabe la educaión que tiene una parte de nuestra base de datos, ahora vamos a estudair cuál es ese porcentaje."
      ],
      "metadata": {
        "id": "f4XzBLBF3aRG"
      },
      "id": "f4XzBLBF3aRG"
    },
    {
      "cell_type": "code",
      "source": [
        "df['education'].value_counts()\n"
      ],
      "metadata": {
        "colab": {
          "base_uri": "https://localhost:8080/"
        },
        "id": "VgJmj2aNqD_6",
        "outputId": "56886854-2073-4744-84b2-4c04ca243bd6"
      },
      "id": "VgJmj2aNqD_6",
      "execution_count": 74,
      "outputs": [
        {
          "output_type": "execute_result",
          "data": {
            "text/plain": [
              "secondary    23202\n",
              "tertiary     13301\n",
              "primary       6851\n",
              "unknown       1857\n",
              "Name: education, dtype: int64"
            ]
          },
          "metadata": {},
          "execution_count": 74
        }
      ]
    },
    {
      "cell_type": "markdown",
      "source": [
        "Ahora, sabemosa parte de los niveles, cuales son las cantidades que están dentro de cada uno de los niveles:\n",
        "\n",
        "\n",
        "1.   Primaria = 6851   \n",
        "2.   Secundaria = 23202   \n",
        "3.   Terciaria = 13301    \n",
        "4.   Desconocida = 1857"
      ],
      "metadata": {
        "id": "ElZkiYvRqy0k"
      },
      "id": "ElZkiYvRqy0k"
    },
    {
      "cell_type": "markdown",
      "source": [
        "###Cómo lidiar con datos faltantes\n",
        "\n",
        "Según el proceso CRISP-DM (Cross-Industry Standard Process for Data Mining), las opciones para lidiar con datos faltantes en bases de datos son las siguientes:\n",
        "1.\tEliminación: Eliminar las filas o columnas con datos faltantes.\n",
        "2.\tImputación: Reemplazar los valores faltantes con valores estimados o calculados. Por ejemplo, la imputación media o mediana puede ser utilizada para reemplazar los valores faltantes en una columna con el valor promedio o mediana de esa columna.\n",
        "3.\tInterpolación: Interpolar los valores faltantes utilizando una técnica de estimación, como la interpolación lineal o spline.\n",
        "4.\tModelos predictivos: Utilizar modelos predictivos para estimar los valores faltantes a partir de los datos disponibles.\n",
        "5.\tAlgoritmos de aprendizaje no supervisado: Utilizar algoritmos de clustering o de reducción de dimensionalidad para identificar patrones en los datos y utilizarlos para estimar los valores faltantes.\n",
        "Es importante elegir la técnica adecuada para lidiar con los datos faltantes, considerando el tipo de datos, la cantidad de datos faltantes y su impacto en los resultados de análisis. Es recomendable investigar y evaluar varias opciones antes de tomar una decisión.\n",
        "\n"
      ],
      "metadata": {
        "id": "3KiBtk611efm"
      },
      "id": "3KiBtk611efm"
    },
    {
      "cell_type": "markdown",
      "source": [
        "Ahora, tenemos que decidir cómo vamos a gestionar aquellos clientes cuyo nivel de educación es desconocido. \n",
        "\n",
        "Debido a que nuestro primer problema trata de ilustrar la correlación entre el nivel de educación y el dinero que tienen, es importante que hagamos algo con ellos en mente.\n",
        "\n",
        "Desconocemos la razón por la cual esta infomación es desconocida, agravado por el hecho de desconocer el criterio usado para agrupar a la gente en dichos niveles. \n",
        "\n",
        "¿Tendrán un nivel de educación inferior al requerido para poder haber obtenido el nivel primario? Tal vez no querían divulgar dicha información...\n",
        "\n"
      ],
      "metadata": {
        "id": "NttAooJjsOxZ"
      },
      "id": "NttAooJjsOxZ"
    },
    {
      "cell_type": "markdown",
      "source": [
        "Existen varias opciones respecto a como lidiar con NaN.\n",
        "Una opción sería ver si podríamos eliminar aquellos clientes con nivel de educación desconocida."
      ],
      "metadata": {
        "id": "EpNGJa-OuTv0"
      },
      "id": "EpNGJa-OuTv0"
    },
    {
      "cell_type": "code",
      "source": [
        "df['education'].value_counts().sum()"
      ],
      "metadata": {
        "colab": {
          "base_uri": "https://localhost:8080/"
        },
        "id": "A6jyvH7uvOV6",
        "outputId": "3e65a811-348f-4eb3-a503-34bcb2f9e020"
      },
      "id": "A6jyvH7uvOV6",
      "execution_count": 75,
      "outputs": [
        {
          "output_type": "execute_result",
          "data": {
            "text/plain": [
              "45211"
            ]
          },
          "metadata": {},
          "execution_count": 75
        }
      ]
    },
    {
      "cell_type": "code",
      "source": [
        "print(\"Porcentage de todos los clientes con nivel de educación desconocido: {:.2f}%\".format((1857/45211)*100))"
      ],
      "metadata": {
        "colab": {
          "base_uri": "https://localhost:8080/"
        },
        "id": "gxQ-yizkxY2f",
        "outputId": "c2a15e48-3948-4ad7-a0aa-54efba7a5f38"
      },
      "id": "gxQ-yizkxY2f",
      "execution_count": 76,
      "outputs": [
        {
          "output_type": "stream",
          "name": "stdout",
          "text": [
            "Porcentage de todos los clientes con nivel de educación desconocido: 4.11%\n"
          ]
        }
      ]
    },
    {
      "cell_type": "markdown",
      "source": [
        "Antes de ver cómo proceder, analizalizaremos cómo están distribuidos los datos de aquellos clientes cuyo nivel de educación es desconocido. La razón por ello, es que si todos aquellos clientes tuviesen una cantidad de dinero que aportase información importante, fuese por su alto o bajo valor, tendríamos que encontrar una forma alternativa de tratar con ellos."
      ],
      "metadata": {
        "id": "O1qhdyYpvzJy"
      },
      "id": "O1qhdyYpvzJy"
    },
    {
      "cell_type": "code",
      "source": [],
      "metadata": {
        "id": "ZJUABwLVyfd4"
      },
      "id": "ZJUABwLVyfd4",
      "execution_count": null,
      "outputs": []
    },
    {
      "cell_type": "markdown",
      "source": [
        "Finalmente, hemos decidimos eliminar los valores ya que el porcentaje es batante bajo, además considerando la cantidad de datos que tenemos podemos eliminarlas. También a favor de nuestar decisión cabe decir que no nos podemos inventar los estudios de una persona, no sabemos cual es el motivo de no saberlo."
      ],
      "metadata": {
        "id": "zcuHHoxaBafN"
      },
      "id": "zcuHHoxaBafN"
    },
    {
      "cell_type": "markdown",
      "source": [
        "Según iremos avanzando, trabajaremos de aquí a lante con esta misma base de datos. Hablando en términos prácticos con visión al mundo real, es más eficiente tener una misma base de datos dese la que trabajar para resolver cualquier tipo de duda. \n",
        "\n",
        "Es por ello que en el contexto particular de este ejercicio, hemos determinado que no supondrá ningún tipo de impedimento usar esta base de datos para el resto de ejercicios."
      ],
      "metadata": {
        "id": "FynLa8quxoW5"
      },
      "id": "FynLa8quxoW5"
    },
    {
      "cell_type": "code",
      "source": [
        "df = df.drop(df[df['education']=='unknown'].index)\n",
        "df.reset_index(inplace=True, drop=True)"
      ],
      "metadata": {
        "id": "d2rPRMBh9RuR"
      },
      "id": "d2rPRMBh9RuR",
      "execution_count": 77,
      "outputs": []
    },
    {
      "cell_type": "code",
      "source": [
        "df['education'].value_counts().plot(kind='pie', title='Education')"
      ],
      "metadata": {
        "id": "ypZxQzYa9zgq",
        "outputId": "2b69fa95-2ad8-4d8a-8b7d-13d172630ee1",
        "colab": {
          "base_uri": "https://localhost:8080/",
          "height": 281
        }
      },
      "id": "ypZxQzYa9zgq",
      "execution_count": 78,
      "outputs": [
        {
          "output_type": "execute_result",
          "data": {
            "text/plain": [
              "<matplotlib.axes._subplots.AxesSubplot at 0x7feeb8f0cd60>"
            ]
          },
          "metadata": {},
          "execution_count": 78
        },
        {
          "output_type": "display_data",
          "data": {
            "text/plain": [
              "<Figure size 432x288 with 1 Axes>"
            ],
            "image/png": "[encoded data removed]"
          },
          "metadata": {}
        }
      ]
    },
    {
      "cell_type": "markdown",
      "source": [
        "Como observamos en la gráfica ya no tenemos observaciones en las que no sepamos las educaión de una persona."
      ],
      "metadata": {
        "id": "aF1M8ChC918n"
      },
      "id": "aF1M8ChC918n"
    },
    {
      "cell_type": "code",
      "source": [
        "df.head()"
      ],
      "metadata": {
        "id": "G8Pp5p_5D2UX",
        "outputId": "dc016f5a-adee-47a5-cd62-7bfeddedcdb6",
        "colab": {
          "base_uri": "https://localhost:8080/",
          "height": 206
        }
      },
      "id": "G8Pp5p_5D2UX",
      "execution_count": 79,
      "outputs": [
        {
          "output_type": "execute_result",
          "data": {
            "text/plain": [
              "   age  education  balance  duration\n",
              "0   58   tertiary     2143       261\n",
              "1   44  secondary       29       151\n",
              "2   33  secondary        2        76\n",
              "3   35   tertiary      231       139\n",
              "4   28   tertiary      447       217"
            ],
            "text/html": [
              "\n",
              "  <div id=\"df-e1f60e54-f336-4e39-9432-e2902dd7e5a9\">\n",
              "    <div class=\"colab-df-container\">\n",
              "      <div>\n",
              "<style scoped>\n",
              "    .dataframe tbody tr th:only-of-type {\n",
              "        vertical-align: middle;\n",
              "    }\n",
              "\n",
              "    .dataframe tbody tr th {\n",
              "        vertical-align: top;\n",
              "    }\n",
              "\n",
              "    .dataframe thead th {\n",
              "        text-align: right;\n",
              "    }\n",
              "</style>\n",
              "<table border=\"1\" class=\"dataframe\">\n",
              "  <thead>\n",
              "    <tr style=\"text-align: right;\">\n",
              "      <th></th>\n",
              "      <th>age</th>\n",
              "      <th>education</th>\n",
              "      <th>balance</th>\n",
              "      <th>duration</th>\n",
              "    </tr>\n",
              "  </thead>\n",
              "  <tbody>\n",
              "    <tr>\n",
              "      <th>0</th>\n",
              "      <td>58</td>\n",
              "      <td>tertiary</td>\n",
              "      <td>2143</td>\n",
              "      <td>261</td>\n",
              "    </tr>\n",
              "    <tr>\n",
              "      <th>1</th>\n",
              "      <td>44</td>\n",
              "      <td>secondary</td>\n",
              "      <td>29</td>\n",
              "      <td>151</td>\n",
              "    </tr>\n",
              "    <tr>\n",
              "      <th>2</th>\n",
              "      <td>33</td>\n",
              "      <td>secondary</td>\n",
              "      <td>2</td>\n",
              "      <td>76</td>\n",
              "    </tr>\n",
              "    <tr>\n",
              "      <th>3</th>\n",
              "      <td>35</td>\n",
              "      <td>tertiary</td>\n",
              "      <td>231</td>\n",
              "      <td>139</td>\n",
              "    </tr>\n",
              "    <tr>\n",
              "      <th>4</th>\n",
              "      <td>28</td>\n",
              "      <td>tertiary</td>\n",
              "      <td>447</td>\n",
              "      <td>217</td>\n",
              "    </tr>\n",
              "  </tbody>\n",
              "</table>\n",
              "</div>\n",
              "      <button class=\"colab-df-convert\" onclick=\"convertToInteractive('df-e1f60e54-f336-4e39-9432-e2902dd7e5a9')\"\n",
              "              title=\"Convert this dataframe to an interactive table.\"\n",
              "              style=\"display:none;\">\n",
              "        \n",
              "  <svg xmlns=\"http://www.w3.org/2000/svg\" height=\"24px\"viewBox=\"0 0 24 24\"\n",
              "       width=\"24px\">\n",
              "    <path d=\"M0 0h24v24H0V0z\" fill=\"none\"/>\n",
              "    <path d=\"M18.56 5.44l.94 2.06.94-2.06 2.06-.94-2.06-.94-.94-2.06-.94 2.06-2.06.94zm-11 1L8.5 8.5l.94-2.06 2.06-.94-2.06-.94L8.5 2.5l-.94 2.06-2.06.94zm10 10l.94 2.06.94-2.06 2.06-.94-2.06-.94-.94-2.06-.94 2.06-2.06.94z\"/><path d=\"M17.41 7.96l-1.37-1.37c-.4-.4-.92-.59-1.43-.59-.52 0-1.04.2-1.43.59L10.3 9.45l-7.72 7.72c-.78.78-.78 2.05 0 2.83L4 21.41c.39.39.9.59 1.41.59.51 0 1.02-.2 1.41-.59l7.78-7.78 2.81-2.81c.8-.78.8-2.07 0-2.86zM5.41 20L4 18.59l7.72-7.72 1.47 1.35L5.41 20z\"/>\n",
              "  </svg>\n",
              "      </button>\n",
              "      \n",
              "  <style>\n",
              "    .colab-df-container {\n",
              "      display:flex;\n",
              "      flex-wrap:wrap;\n",
              "      gap: 12px;\n",
              "    }\n",
              "\n",
              "    .colab-df-convert {\n",
              "      background-color: #E8F0FE;\n",
              "      border: none;\n",
              "      border-radius: 50%;\n",
              "      cursor: pointer;\n",
              "      display: none;\n",
              "      fill: #1967D2;\n",
              "      height: 32px;\n",
              "      padding: 0 0 0 0;\n",
              "      width: 32px;\n",
              "    }\n",
              "\n",
              "    .colab-df-convert:hover {\n",
              "      background-color: #E2EBFA;\n",
              "      box-shadow: 0px 1px 2px rgba(60, 64, 67, 0.3), 0px 1px 3px 1px rgba(60, 64, 67, 0.15);\n",
              "      fill: #174EA6;\n",
              "    }\n",
              "\n",
              "    [theme=dark] .colab-df-convert {\n",
              "      background-color: #3B4455;\n",
              "      fill: #D2E3FC;\n",
              "    }\n",
              "\n",
              "    [theme=dark] .colab-df-convert:hover {\n",
              "      background-color: #434B5C;\n",
              "      box-shadow: 0px 1px 3px 1px rgba(0, 0, 0, 0.15);\n",
              "      filter: drop-shadow(0px 1px 2px rgba(0, 0, 0, 0.3));\n",
              "      fill: #FFFFFF;\n",
              "    }\n",
              "  </style>\n",
              "\n",
              "      <script>\n",
              "        const buttonEl =\n",
              "          document.querySelector('#df-e1f60e54-f336-4e39-9432-e2902dd7e5a9 button.colab-df-convert');\n",
              "        buttonEl.style.display =\n",
              "          google.colab.kernel.accessAllowed ? 'block' : 'none';\n",
              "\n",
              "        async function convertToInteractive(key) {\n",
              "          const element = document.querySelector('#df-e1f60e54-f336-4e39-9432-e2902dd7e5a9');\n",
              "          const dataTable =\n",
              "            await google.colab.kernel.invokeFunction('convertToInteractive',\n",
              "                                                     [key], {});\n",
              "          if (!dataTable) return;\n",
              "\n",
              "          const docLinkHtml = 'Like what you see? Visit the ' +\n",
              "            '<a target=\"_blank\" href=https://colab.research.google.com/notebooks/data_table.ipynb>data table notebook</a>'\n",
              "            + ' to learn more about interactive tables.';\n",
              "          element.innerHTML = '';\n",
              "          dataTable['output_type'] = 'display_data';\n",
              "          await google.colab.output.renderOutput(dataTable, element);\n",
              "          const docLink = document.createElement('div');\n",
              "          docLink.innerHTML = docLinkHtml;\n",
              "          element.appendChild(docLink);\n",
              "        }\n",
              "      </script>\n",
              "    </div>\n",
              "  </div>\n",
              "  "
            ]
          },
          "metadata": {},
          "execution_count": 79
        }
      ]
    },
    {
      "cell_type": "markdown",
      "source": [
        "#EJERCICIO 1\n",
        "\n",
        "**¿Está el *nivel de estudios* directamente relacionado con el *saldo de cada cliente en la cuenta*?**\n",
        "\n",
        "Para ello estableceremos 3 rangos numéricos: los que tienen deudas, la gente que tiene unos ahorros normales (en positivo, pero menos de 10.000 euros) y los que disponen de suficientes ahorros como para ofrecerles paquetes de inversión (aquellos en positivo con más de 10.000 euros). "
      ],
      "metadata": {
        "id": "zYimFhRCKnN4"
      },
      "id": "zYimFhRCKnN4"
    },
    {
      "cell_type": "code",
      "source": [
        "filas=len(df.axes[0])\n",
        "\n",
        "for i in range (filas):\n",
        "  if df['balance'][i]<0:\n",
        "    df['balance'][i]='Endeudados'\n",
        "  elif df['balance'][i]>10000:\n",
        "    df['balance'][i]='Potencial_Paquete_Inversion'\n",
        "  else:\n",
        "    df['balance'][i]='Balance_Positivo'\n"
      ],
      "metadata": {
        "colab": {
          "base_uri": "https://localhost:8080/"
        },
        "id": "TY7yIwocBr0P",
        "outputId": "56ab3c3c-804c-4cd2-9dfc-7acc2e9d1b07"
      },
      "id": "TY7yIwocBr0P",
      "execution_count": 80,
      "outputs": [
        {
          "output_type": "stream",
          "name": "stderr",
          "text": [
            "<ipython-input-80-809ed51097a4>:9: SettingWithCopyWarning: \n",
            "A value is trying to be set on a copy of a slice from a DataFrame\n",
            "\n",
            "See the caveats in the documentation: https://pandas.pydata.org/pandas-docs/stable/user_guide/indexing.html#returning-a-view-versus-a-copy\n",
            "  df['balance'][i]='Balance_Positivo'\n",
            "/usr/local/lib/python3.8/dist-packages/pandas/core/indexing.py:1732: SettingWithCopyWarning: \n",
            "A value is trying to be set on a copy of a slice from a DataFrame\n",
            "\n",
            "See the caveats in the documentation: https://pandas.pydata.org/pandas-docs/stable/user_guide/indexing.html#returning-a-view-versus-a-copy\n",
            "  self._setitem_single_block(indexer, value, name)\n"
          ]
        }
      ]
    },
    {
      "cell_type": "markdown",
      "source": [
        "Ya sabemos que tendremos que agrupar a los clientes en 3 rangos numéricos según el dinero que actualmente tengan en su cuenta de banco, pero previo a visualizar los datos, "
      ],
      "metadata": {
        "id": "w05-L7DOr8f9"
      },
      "id": "w05-L7DOr8f9"
    },
    {
      "cell_type": "code",
      "source": [
        "df.head()"
      ],
      "metadata": {
        "colab": {
          "base_uri": "https://localhost:8080/",
          "height": 206
        },
        "id": "VeAPejeoEVkk",
        "outputId": "a1d46178-d1af-4358-8c15-5e912601cbac"
      },
      "id": "VeAPejeoEVkk",
      "execution_count": 81,
      "outputs": [
        {
          "output_type": "execute_result",
          "data": {
            "text/plain": [
              "   age  education           balance  duration\n",
              "0   58   tertiary  Balance_Positivo       261\n",
              "1   44  secondary  Balance_Positivo       151\n",
              "2   33  secondary  Balance_Positivo        76\n",
              "3   35   tertiary  Balance_Positivo       139\n",
              "4   28   tertiary  Balance_Positivo       217"
            ],
            "text/html": [
              "\n",
              "  <div id=\"df-4f373abb-b251-475d-a556-432503b7bb66\">\n",
              "    <div class=\"colab-df-container\">\n",
              "      <div>\n",
              "<style scoped>\n",
              "    .dataframe tbody tr th:only-of-type {\n",
              "        vertical-align: middle;\n",
              "    }\n",
              "\n",
              "    .dataframe tbody tr th {\n",
              "        vertical-align: top;\n",
              "    }\n",
              "\n",
              "    .dataframe thead th {\n",
              "        text-align: right;\n",
              "    }\n",
              "</style>\n",
              "<table border=\"1\" class=\"dataframe\">\n",
              "  <thead>\n",
              "    <tr style=\"text-align: right;\">\n",
              "      <th></th>\n",
              "      <th>age</th>\n",
              "      <th>education</th>\n",
              "      <th>balance</th>\n",
              "      <th>duration</th>\n",
              "    </tr>\n",
              "  </thead>\n",
              "  <tbody>\n",
              "    <tr>\n",
              "      <th>0</th>\n",
              "      <td>58</td>\n",
              "      <td>tertiary</td>\n",
              "      <td>Balance_Positivo</td>\n",
              "      <td>261</td>\n",
              "    </tr>\n",
              "    <tr>\n",
              "      <th>1</th>\n",
              "      <td>44</td>\n",
              "      <td>secondary</td>\n",
              "      <td>Balance_Positivo</td>\n",
              "      <td>151</td>\n",
              "    </tr>\n",
              "    <tr>\n",
              "      <th>2</th>\n",
              "      <td>33</td>\n",
              "      <td>secondary</td>\n",
              "      <td>Balance_Positivo</td>\n",
              "      <td>76</td>\n",
              "    </tr>\n",
              "    <tr>\n",
              "      <th>3</th>\n",
              "      <td>35</td>\n",
              "      <td>tertiary</td>\n",
              "      <td>Balance_Positivo</td>\n",
              "      <td>139</td>\n",
              "    </tr>\n",
              "    <tr>\n",
              "      <th>4</th>\n",
              "      <td>28</td>\n",
              "      <td>tertiary</td>\n",
              "      <td>Balance_Positivo</td>\n",
              "      <td>217</td>\n",
              "    </tr>\n",
              "  </tbody>\n",
              "</table>\n",
              "</div>\n",
              "      <button class=\"colab-df-convert\" onclick=\"convertToInteractive('df-4f373abb-b251-475d-a556-432503b7bb66')\"\n",
              "              title=\"Convert this dataframe to an interactive table.\"\n",
              "              style=\"display:none;\">\n",
              "        \n",
              "  <svg xmlns=\"http://www.w3.org/2000/svg\" height=\"24px\"viewBox=\"0 0 24 24\"\n",
              "       width=\"24px\">\n",
              "    <path d=\"M0 0h24v24H0V0z\" fill=\"none\"/>\n",
              "    <path d=\"M18.56 5.44l.94 2.06.94-2.06 2.06-.94-2.06-.94-.94-2.06-.94 2.06-2.06.94zm-11 1L8.5 8.5l.94-2.06 2.06-.94-2.06-.94L8.5 2.5l-.94 2.06-2.06.94zm10 10l.94 2.06.94-2.06 2.06-.94-2.06-.94-.94-2.06-.94 2.06-2.06.94z\"/><path d=\"M17.41 7.96l-1.37-1.37c-.4-.4-.92-.59-1.43-.59-.52 0-1.04.2-1.43.59L10.3 9.45l-7.72 7.72c-.78.78-.78 2.05 0 2.83L4 21.41c.39.39.9.59 1.41.59.51 0 1.02-.2 1.41-.59l7.78-7.78 2.81-2.81c.8-.78.8-2.07 0-2.86zM5.41 20L4 18.59l7.72-7.72 1.47 1.35L5.41 20z\"/>\n",
              "  </svg>\n",
              "      </button>\n",
              "      \n",
              "  <style>\n",
              "    .colab-df-container {\n",
              "      display:flex;\n",
              "      flex-wrap:wrap;\n",
              "      gap: 12px;\n",
              "    }\n",
              "\n",
              "    .colab-df-convert {\n",
              "      background-color: #E8F0FE;\n",
              "      border: none;\n",
              "      border-radius: 50%;\n",
              "      cursor: pointer;\n",
              "      display: none;\n",
              "      fill: #1967D2;\n",
              "      height: 32px;\n",
              "      padding: 0 0 0 0;\n",
              "      width: 32px;\n",
              "    }\n",
              "\n",
              "    .colab-df-convert:hover {\n",
              "      background-color: #E2EBFA;\n",
              "      box-shadow: 0px 1px 2px rgba(60, 64, 67, 0.3), 0px 1px 3px 1px rgba(60, 64, 67, 0.15);\n",
              "      fill: #174EA6;\n",
              "    }\n",
              "\n",
              "    [theme=dark] .colab-df-convert {\n",
              "      background-color: #3B4455;\n",
              "      fill: #D2E3FC;\n",
              "    }\n",
              "\n",
              "    [theme=dark] .colab-df-convert:hover {\n",
              "      background-color: #434B5C;\n",
              "      box-shadow: 0px 1px 3px 1px rgba(0, 0, 0, 0.15);\n",
              "      filter: drop-shadow(0px 1px 2px rgba(0, 0, 0, 0.3));\n",
              "      fill: #FFFFFF;\n",
              "    }\n",
              "  </style>\n",
              "\n",
              "      <script>\n",
              "        const buttonEl =\n",
              "          document.querySelector('#df-4f373abb-b251-475d-a556-432503b7bb66 button.colab-df-convert');\n",
              "        buttonEl.style.display =\n",
              "          google.colab.kernel.accessAllowed ? 'block' : 'none';\n",
              "\n",
              "        async function convertToInteractive(key) {\n",
              "          const element = document.querySelector('#df-4f373abb-b251-475d-a556-432503b7bb66');\n",
              "          const dataTable =\n",
              "            await google.colab.kernel.invokeFunction('convertToInteractive',\n",
              "                                                     [key], {});\n",
              "          if (!dataTable) return;\n",
              "\n",
              "          const docLinkHtml = 'Like what you see? Visit the ' +\n",
              "            '<a target=\"_blank\" href=https://colab.research.google.com/notebooks/data_table.ipynb>data table notebook</a>'\n",
              "            + ' to learn more about interactive tables.';\n",
              "          element.innerHTML = '';\n",
              "          dataTable['output_type'] = 'display_data';\n",
              "          await google.colab.output.renderOutput(dataTable, element);\n",
              "          const docLink = document.createElement('div');\n",
              "          docLink.innerHTML = docLinkHtml;\n",
              "          element.appendChild(docLink);\n",
              "        }\n",
              "      </script>\n",
              "    </div>\n",
              "  </div>\n",
              "  "
            ]
          },
          "metadata": {},
          "execution_count": 81
        }
      ]
    },
    {
      "cell_type": "code",
      "source": [
        "df['balance'].value_counts()"
      ],
      "metadata": {
        "colab": {
          "base_uri": "https://localhost:8080/"
        },
        "id": "4Fz-qdPNEbeJ",
        "outputId": "65eee3f5-78ac-480c-8d88-e0129d3ef0d6"
      },
      "id": "4Fz-qdPNEbeJ",
      "execution_count": 82,
      "outputs": [
        {
          "output_type": "execute_result",
          "data": {
            "text/plain": [
              "Balance_Positivo               38927\n",
              "Endeudados                      3638\n",
              "Potencial_Paquete_Inversion      789\n",
              "Name: balance, dtype: int64"
            ]
          },
          "metadata": {},
          "execution_count": 82
        }
      ]
    },
    {
      "cell_type": "code",
      "source": [
        "df['education'].value_counts()"
      ],
      "metadata": {
        "colab": {
          "base_uri": "https://localhost:8080/"
        },
        "id": "3_pJ0CveWMGZ",
        "outputId": "bbb1a869-7caa-4afc-f02e-76ad7099dcb4"
      },
      "id": "3_pJ0CveWMGZ",
      "execution_count": 83,
      "outputs": [
        {
          "output_type": "execute_result",
          "data": {
            "text/plain": [
              "secondary    23202\n",
              "tertiary     13301\n",
              "primary       6851\n",
              "Name: education, dtype: int64"
            ]
          },
          "metadata": {},
          "execution_count": 83
        }
      ]
    },
    {
      "cell_type": "code",
      "source": [
        "grouped = df.groupby(['education','balance'])"
      ],
      "metadata": {
        "id": "rG30_ghITNMC"
      },
      "id": "rG30_ghITNMC",
      "execution_count": 84,
      "outputs": []
    },
    {
      "cell_type": "code",
      "source": [
        "counts = grouped['age'].count().reset_index(name='count')\n",
        "table = counts.pivot_table(index='education',columns='balance', values='count')\n",
        "table"
      ],
      "metadata": {
        "colab": {
          "base_uri": "https://localhost:8080/",
          "height": 175
        },
        "id": "kAfkiAfyTSs4",
        "outputId": "f803ea02-1031-4334-ea46-bbfa8661b7c9"
      },
      "id": "kAfkiAfyTSs4",
      "execution_count": 85,
      "outputs": [
        {
          "output_type": "execute_result",
          "data": {
            "text/plain": [
              "balance    Balance_Positivo  Endeudados  Potencial_Paquete_Inversion\n",
              "education                                                           \n",
              "primary                6160         607                           84\n",
              "secondary             20590        2311                          301\n",
              "tertiary              12177         720                          404"
            ],
            "text/html": [
              "\n",
              "  <div id=\"df-52c60250-0302-47e7-9555-c2032a78981c\">\n",
              "    <div class=\"colab-df-container\">\n",
              "      <div>\n",
              "<style scoped>\n",
              "    .dataframe tbody tr th:only-of-type {\n",
              "        vertical-align: middle;\n",
              "    }\n",
              "\n",
              "    .dataframe tbody tr th {\n",
              "        vertical-align: top;\n",
              "    }\n",
              "\n",
              "    .dataframe thead th {\n",
              "        text-align: right;\n",
              "    }\n",
              "</style>\n",
              "<table border=\"1\" class=\"dataframe\">\n",
              "  <thead>\n",
              "    <tr style=\"text-align: right;\">\n",
              "      <th>balance</th>\n",
              "      <th>Balance_Positivo</th>\n",
              "      <th>Endeudados</th>\n",
              "      <th>Potencial_Paquete_Inversion</th>\n",
              "    </tr>\n",
              "    <tr>\n",
              "      <th>education</th>\n",
              "      <th></th>\n",
              "      <th></th>\n",
              "      <th></th>\n",
              "    </tr>\n",
              "  </thead>\n",
              "  <tbody>\n",
              "    <tr>\n",
              "      <th>primary</th>\n",
              "      <td>6160</td>\n",
              "      <td>607</td>\n",
              "      <td>84</td>\n",
              "    </tr>\n",
              "    <tr>\n",
              "      <th>secondary</th>\n",
              "      <td>20590</td>\n",
              "      <td>2311</td>\n",
              "      <td>301</td>\n",
              "    </tr>\n",
              "    <tr>\n",
              "      <th>tertiary</th>\n",
              "      <td>12177</td>\n",
              "      <td>720</td>\n",
              "      <td>404</td>\n",
              "    </tr>\n",
              "  </tbody>\n",
              "</table>\n",
              "</div>\n",
              "      <button class=\"colab-df-convert\" onclick=\"convertToInteractive('df-52c60250-0302-47e7-9555-c2032a78981c')\"\n",
              "              title=\"Convert this dataframe to an interactive table.\"\n",
              "              style=\"display:none;\">\n",
              "        \n",
              "  <svg xmlns=\"http://www.w3.org/2000/svg\" height=\"24px\"viewBox=\"0 0 24 24\"\n",
              "       width=\"24px\">\n",
              "    <path d=\"M0 0h24v24H0V0z\" fill=\"none\"/>\n",
              "    <path d=\"M18.56 5.44l.94 2.06.94-2.06 2.06-.94-2.06-.94-.94-2.06-.94 2.06-2.06.94zm-11 1L8.5 8.5l.94-2.06 2.06-.94-2.06-.94L8.5 2.5l-.94 2.06-2.06.94zm10 10l.94 2.06.94-2.06 2.06-.94-2.06-.94-.94-2.06-.94 2.06-2.06.94z\"/><path d=\"M17.41 7.96l-1.37-1.37c-.4-.4-.92-.59-1.43-.59-.52 0-1.04.2-1.43.59L10.3 9.45l-7.72 7.72c-.78.78-.78 2.05 0 2.83L4 21.41c.39.39.9.59 1.41.59.51 0 1.02-.2 1.41-.59l7.78-7.78 2.81-2.81c.8-.78.8-2.07 0-2.86zM5.41 20L4 18.59l7.72-7.72 1.47 1.35L5.41 20z\"/>\n",
              "  </svg>\n",
              "      </button>\n",
              "      \n",
              "  <style>\n",
              "    .colab-df-container {\n",
              "      display:flex;\n",
              "      flex-wrap:wrap;\n",
              "      gap: 12px;\n",
              "    }\n",
              "\n",
              "    .colab-df-convert {\n",
              "      background-color: #E8F0FE;\n",
              "      border: none;\n",
              "      border-radius: 50%;\n",
              "      cursor: pointer;\n",
              "      display: none;\n",
              "      fill: #1967D2;\n",
              "      height: 32px;\n",
              "      padding: 0 0 0 0;\n",
              "      width: 32px;\n",
              "    }\n",
              "\n",
              "    .colab-df-convert:hover {\n",
              "      background-color: #E2EBFA;\n",
              "      box-shadow: 0px 1px 2px rgba(60, 64, 67, 0.3), 0px 1px 3px 1px rgba(60, 64, 67, 0.15);\n",
              "      fill: #174EA6;\n",
              "    }\n",
              "\n",
              "    [theme=dark] .colab-df-convert {\n",
              "      background-color: #3B4455;\n",
              "      fill: #D2E3FC;\n",
              "    }\n",
              "\n",
              "    [theme=dark] .colab-df-convert:hover {\n",
              "      background-color: #434B5C;\n",
              "      box-shadow: 0px 1px 3px 1px rgba(0, 0, 0, 0.15);\n",
              "      filter: drop-shadow(0px 1px 2px rgba(0, 0, 0, 0.3));\n",
              "      fill: #FFFFFF;\n",
              "    }\n",
              "  </style>\n",
              "\n",
              "      <script>\n",
              "        const buttonEl =\n",
              "          document.querySelector('#df-52c60250-0302-47e7-9555-c2032a78981c button.colab-df-convert');\n",
              "        buttonEl.style.display =\n",
              "          google.colab.kernel.accessAllowed ? 'block' : 'none';\n",
              "\n",
              "        async function convertToInteractive(key) {\n",
              "          const element = document.querySelector('#df-52c60250-0302-47e7-9555-c2032a78981c');\n",
              "          const dataTable =\n",
              "            await google.colab.kernel.invokeFunction('convertToInteractive',\n",
              "                                                     [key], {});\n",
              "          if (!dataTable) return;\n",
              "\n",
              "          const docLinkHtml = 'Like what you see? Visit the ' +\n",
              "            '<a target=\"_blank\" href=https://colab.research.google.com/notebooks/data_table.ipynb>data table notebook</a>'\n",
              "            + ' to learn more about interactive tables.';\n",
              "          element.innerHTML = '';\n",
              "          dataTable['output_type'] = 'display_data';\n",
              "          await google.colab.output.renderOutput(dataTable, element);\n",
              "          const docLink = document.createElement('div');\n",
              "          docLink.innerHTML = docLinkHtml;\n",
              "          element.appendChild(docLink);\n",
              "        }\n",
              "      </script>\n",
              "    </div>\n",
              "  </div>\n",
              "  "
            ]
          },
          "metadata": {},
          "execution_count": 85
        }
      ]
    },
    {
      "cell_type": "code",
      "source": [
        "data = table\n",
        "print(data)"
      ],
      "metadata": {
        "colab": {
          "base_uri": "https://localhost:8080/"
        },
        "id": "Wa5AZra5c5RU",
        "outputId": "687966f5-32bb-4d8e-8255-f4223f537d01"
      },
      "id": "Wa5AZra5c5RU",
      "execution_count": 86,
      "outputs": [
        {
          "output_type": "stream",
          "name": "stdout",
          "text": [
            "balance    Balance_Positivo  Endeudados  Potencial_Paquete_Inversion\n",
            "education                                                           \n",
            "primary                6160         607                           84\n",
            "secondary             20590        2311                          301\n",
            "tertiary              12177         720                          404\n"
          ]
        }
      ]
    },
    {
      "cell_type": "markdown",
      "source": [
        "Con esta tabla logramos visualizar, previo a una gráfica, toda la información que necesitamos conocer. \n",
        "\n",
        "Ésta gráfica nos indica qué nivel de educación posee cada bloque de clientes según el dinero que tienen en la cuenta actualmente.\n",
        "\n",
        "Analicémosla con detenimiento para comprender bien la información que aparece y si hay algún dato que nos pueda sorprender.\n",
        "\n",
        "Empecemos por los daros tal vez más esperados.\n",
        "\n",
        "El mayor número de personas que poseen más de 10.000€ en sus cuentas y por lo tanto pueden ser considerados para el paquete de inversiones son personas con el nivel de educación más alto, y el grupo de personas más pequeño lo componen aquellos con un nivel de educación primaria.\n",
        "\n",
        "Se puede considerar interesante el hecho que el mayor número de personas endeudadas, o con la cuenta en negativo, provienen de aquellos con nivel de educación secundaria y con un margen muy grande. Un 63.5% de todas las personas endeudadas exactamente. Seguidos después por aquellos con un nivel de educación terciario y en último lugar aquellos con un nivel de educación primaria. Es cierto que aunque el menor número de personas endeudadas provengan del nivel educativo primario, en general son el grupo menos numeroso. Porcentualmente hablando, el número de personas endeudadas es mayor en dicho grupo que en el de aquellos individuos con nivel de educación secundaria.\n",
        "\n",
        "\n",
        "Seguiremos analizando una vez obtengamos la gráfica.\n",
        "\n",
        "\n"
      ],
      "metadata": {
        "id": "OJ1iPPhLUGhE"
      },
      "id": "OJ1iPPhLUGhE"
    },
    {
      "cell_type": "code",
      "source": [
        "df = pd.DataFrame(data)"
      ],
      "metadata": {
        "id": "pzZ_EBDPct0D"
      },
      "id": "pzZ_EBDPct0D",
      "execution_count": 87,
      "outputs": []
    },
    {
      "cell_type": "code",
      "source": [
        "print(df)"
      ],
      "metadata": {
        "colab": {
          "base_uri": "https://localhost:8080/"
        },
        "id": "QG1i-53MeTg4",
        "outputId": "e61a03e0-d7b7-4c6f-8c76-00efd1c6f59b"
      },
      "id": "QG1i-53MeTg4",
      "execution_count": 88,
      "outputs": [
        {
          "output_type": "stream",
          "name": "stdout",
          "text": [
            "balance    Balance_Positivo  Endeudados  Potencial_Paquete_Inversion\n",
            "education                                                           \n",
            "primary                6160         607                           84\n",
            "secondary             20590        2311                          301\n",
            "tertiary              12177         720                          404\n"
          ]
        }
      ]
    },
    {
      "cell_type": "markdown",
      "source": [
        "**¿Qué diagrama has usado y por qué?**\n",
        "\n",
        "Optamos por un gráfico de barras adyacentes para representar esta información por una serie de ventajas que presentaba.\n",
        "\n",
        "Las ventajas de utilizar una gráfica de barras adyacentes para explicar la relación entre el nivel de estudios y el saldo de los clientes en la cuenta incluyen:\n",
        "\n",
        "*   **Visualización clara:** Las gráficas de barras adyacentes son fáciles de leer y comprender, lo que permite a los lectores ver de manera clara la relación entre dos variables.\n",
        "*   **Comparación fácil:** Con una gráfica de barras adyacentes, es fácil comparar los valores de dos o más categorías y ver si existe una correlación entre ellas.\n",
        "*   **Representación gráfica:** Las gráficas de barras adyacentes pueden utilizarse para representar de manera gráfica datos numéricos y hacer que la información sea más accesible para los lectores.\n"
      ],
      "metadata": {
        "id": "UtfP_kA5h-2_"
      },
      "id": "UtfP_kA5h-2_"
    },
    {
      "cell_type": "code",
      "source": [
        "import pandas as pd\n",
        "import matplotlib.pyplot as plt\n",
        "\n",
        "# Create the sample data\n",
        "data = {'Education Level': ['Primaria', 'Secundaria', 'Terciaria', \n",
        "                            'Primaria', 'Secundaria', 'Terciaria',\n",
        "                            'Primaria', 'Secundaria', 'Terciaria'],\n",
        "        'Account Balance': ['Endeudados', 'Endeudados', 'Endeudados', \n",
        "                            'Balance Positivo', 'Balance Positivo', 'Balance Positivo',\n",
        "                            'Potencial Paquete Inversion', 'Potencial Paquete Inversion', 'Potencial Paquete Inversion'],\n",
        "        'Count': [607, 2311, 720,\n",
        "                  6160, 20590, 12177,\n",
        "                  84, 301, 404]}\n",
        "\n",
        "# Convert the data into a pandas dataframe\n",
        "df = pd.DataFrame(data)\n",
        "\n",
        "# Create a pivot table to rearrange the data\n",
        "pivot_table = df.pivot(index='Education Level', columns='Account Balance', values='Count')\n",
        "\n",
        "# Plot the pivot table as a bar chart\n",
        "pivot_table.plot(kind='bar', stacked=False, figsize=(10, 5), color=['blue', 'red', 'green'])\n",
        "\n",
        "# Add labels and titles to the plot\n",
        "plt.xlabel('Nivel de educación')\n",
        "plt.ylabel('Numero de personas')\n",
        "plt.title('Nivel Educativo vs Saldo de Cliente en Cuenta')\n",
        "\n",
        "# Show the plot\n",
        "plt.show()"
      ],
      "metadata": {
        "colab": {
          "base_uri": "https://localhost:8080/",
          "height": 396
        },
        "id": "gNf4tCjwlHzD",
        "outputId": "3c706f1a-2efe-47c3-cdf6-48d868dfcb12"
      },
      "id": "gNf4tCjwlHzD",
      "execution_count": 19,
      "outputs": [
        {
          "output_type": "display_data",
          "data": {
            "text/plain": [
              "<Figure size 720x360 with 1 Axes>"
            ],
            "image/png": "[encoded data removed]"
          },
          "metadata": {
            "needs_background": "light"
          }
        }
      ]
    },
    {
      "cell_type": "code",
      "source": [
        "import pandas as pd\n",
        "import matplotlib.pyplot as plt\n",
        "\n",
        "# Create the sample data\n",
        "data = {'Education Level': ['Primaria', 'Secundaria', 'Terciaria', \n",
        "                            'Primaria', 'Secundaria', 'Terciaria',\n",
        "                            'Primaria', 'Secundaria', 'Terciaria'],\n",
        "        'Account Balance': ['Endeudados', 'Endeudados', 'Endeudados', \n",
        "                            'Balance_Positivo', 'Balance_Positivo', 'Balance_Positivo',\n",
        "                            'Potencial Paquete Inversion', 'Potencial Paquete Inversion', 'Potencial Paquete Inversion'],\n",
        "        'Count': [607, 2311, 720,\n",
        "                  6160, 20590, 12177,\n",
        "                  84, 301, 404]}\n",
        "\n",
        "# Convert the data into a pandas dataframe\n",
        "df = pd.DataFrame(data)\n",
        "\n",
        "# Create a pivot table to rearrange the data\n",
        "pivot_table = df.pivot(index='Account Balance', columns='Education Level', values='Count')\n",
        "\n",
        "# Plot the pivot table as a bar chart\n",
        "pivot_table.plot(kind='bar', stacked=False, figsize=(10, 5), color=['red', 'blue','green'])\n",
        "\n",
        "# Add labels and titles to the plot\n",
        "plt.xlabel('Nivel de educación')\n",
        "plt.ylabel('Numero de personas')\n",
        "plt.title('Nivel Educativo vs Saldo de Cliente en Cuenta')\n",
        "\n",
        "# Show the plot\n",
        "plt.show()"
      ],
      "metadata": {
        "id": "jlL51V5P7diB",
        "outputId": "25eb9263-0094-4117-8416-b0299e4ac35a",
        "colab": {
          "base_uri": "https://localhost:8080/",
          "height": 478
        }
      },
      "id": "jlL51V5P7diB",
      "execution_count": 18,
      "outputs": [
        {
          "output_type": "display_data",
          "data": {
            "text/plain": [
              "<Figure size 720x360 with 1 Axes>"
            ],
            "image/png": "[encoded data removed]"
          },
          "metadata": {
            "needs_background": "light"
          }
        }
      ]
    },
    {
      "cell_type": "markdown",
      "source": [
        "Como podemos apreciar, la decisión respecto a que variable será representada en el eje x ( Nivel de educación o Saldo del cliente en la cuenta) y cual por los tres diferentes colores, es muy importante puesto las deducciones que podramos sacar visualizando las gráficas de barras adyacentes podrían ser diferentes.\n",
        "\n",
        "De la Gráfica [1], lo más inminente que podemos apreciar, es cómo los tres bloques de educación siguen un patrón casi idéntico, muy similar. La popularidad y distribución del saldo los clientes sigue el mismo orden sin importar el nivel de educación de los mismos; la mayoría tiene un saldo positivo, seguido por aquellos que tienen la cuenta en negativo y en último lugar aquellos con más de 10.000€.\n",
        "\n",
        "También tenemos que apreciar cómo de grande es el salto entre aquellos que tienen un balance positivo vs el resto, es muy notable.\n",
        "\n",
        "La Gráfica [2], nos permite visualizar mejor este último dato. Vemos más drásticamente tal vez, la diferencia de personas que existen entre aquellos que tienen un balance positivo y el resto de personas. Podemos comprender la verdadera magnitud de los pocos clientes a los que se les puede ofrecer el paquete de inversión. \n",
        "\n",
        "Éste tipo de gráficas le puede servir a la sucursal del banco para tomar decisiones, por ejemplo respecto a la cantidad de empleados que necesitan contratar para conversar con aquellos clientes más adinerados sobre un paquete premium.\n",
        "\n",
        "Si bien ésta gráfica es útil porque representa de una forma muy buena la cantidad de personas que caen bajo según qué rango, tal vez no es la mejor para ayudarnos a conceptualizar el porcentaje de personas que caen bajo cada rango y la relación entre el nivel de educación y el saldo del cliente en su cuenta. Es por ello que con los datos crearemos más gráficas diferentes para conseguir una mejor visión global de esta relación.\n"
      ],
      "metadata": {
        "id": "DMem4RG-NLaK"
      },
      "id": "DMem4RG-NLaK"
    },
    {
      "cell_type": "code",
      "source": [
        "import pandas as pd\n",
        "import matplotlib.pyplot as plt\n",
        "\n",
        "# Create the sample data\n",
        "data = {'Education Level': ['Primaria', 'Secundaria', 'Terciaria', \n",
        "                            'Primaria', 'Secundaria', 'Terciaria',\n",
        "                            'Primaria', 'Secundaria', 'Terciaria'],\n",
        "        'Account Balance': ['Endeudados', 'Endeudados', 'Endeudados', \n",
        "                            'Balance_Positivo', 'Balance_Positivo', 'Balance_Positivo',\n",
        "                            'Potencial Paquete Inversion', 'Potencial Paquete Inversion', 'Potencial Paquete Inversion'],\n",
        "        'Count': [607, 2311, 720,\n",
        "                  6160, 20590, 12177,\n",
        "                  84, 301, 404]}\n",
        "\n",
        "# Convert the data into a pandas dataframe\n",
        "df = pd.DataFrame(data)\n",
        "\n",
        "# Create a pivot table to rearrange the data\n",
        "pivot_table = df.pivot(index='Education Level', columns='Account Balance', values='Count')\n",
        "\n",
        "# Plot the pivot table as a bar chart using subplots\n",
        "fig, (ax1, ax2, ax3) = plt.subplots(1, 3, figsize=(15, 5))\n",
        "\n",
        "colors = ['blue', 'red', 'green']  # list of colors for each bar\n",
        "\n",
        "pivot_table[['Endeudados']].plot(kind='bar', stacked=False, ax=ax1, color=colors)\n",
        "pivot_table[['Balance_Positivo']].plot(kind='bar', stacked=False, ax=ax2, color=colors)\n",
        "pivot_table[['Potencial Paquete Inversion']].plot(kind='bar', stacked=False, ax=ax3, color=colors)\n",
        "\n",
        "\n",
        "# Add labels and titles to the subplots\n",
        "ax1.set_xlabel('Nivel de educación')\n",
        "ax1.set_ylabel('Numero de personas')\n",
        "ax1.set_title('Endeudados')\n",
        "ax2.set_xlabel('Nivel de educación')\n",
        "ax2.set_ylabel('Numero de personas')\n",
        "ax2.set_title('Balance Positivo')\n",
        "ax3.set_xlabel('Nivel de educación')\n",
        "ax3.set_ylabel('Numero de personas')\n",
        "ax3.set_title('Potencial Paquete Inversion')\n",
        "\n",
        "# Show the plot\n",
        "plt.show()\n"
      ],
      "metadata": {
        "id": "cgrX-3EF8cdD",
        "outputId": "a893ba23-62f5-4786-ae65-fb96f8464abe",
        "colab": {
          "base_uri": "https://localhost:8080/",
          "height": 396
        }
      },
      "id": "cgrX-3EF8cdD",
      "execution_count": 15,
      "outputs": [
        {
          "output_type": "display_data",
          "data": {
            "text/plain": [
              "<Figure size 1080x360 with 3 Axes>"
            ],
            "image/png": "[encoded data removed]"
          },
          "metadata": {
            "needs_background": "light"
          }
        }
      ]
    },
    {
      "cell_type": "code",
      "source": [
        "import pandas as pd\n",
        "import matplotlib.pyplot as plt\n",
        "\n",
        "# Read the data into a Pandas dataframe\n",
        "data = {'Education': ['primaria', 'secundaria', 'terciaria'],\n",
        "        'endeudados': [607, 2311, 720],\n",
        "        'balance positivo': [6160, 20590, 12177],\n",
        "        'potencial paquete inversion': [84, 301, 404]}\n",
        "df = pd.DataFrame(data)\n",
        "\n",
        "# Set the index of the dataframe to the 'education' column\n",
        "df = df.set_index('Education')\n",
        "\n",
        "# Plot the data as a stacked bar graph\n",
        "df.plot(kind='bar', stacked=True, figsize=(10,5), color=['red', 'blue', 'green'])\n",
        "\n",
        "# Add labels and title to the graph\n",
        "plt.xlabel('Nivel de educacion')\n",
        "plt.ylabel('Numero de clientes')\n",
        "plt.title('Nivel Educativo vs Saldo de Cliente en Cuenta')\n",
        "\n",
        "# Show the graph\n",
        "plt.show()\n"
      ],
      "metadata": {
        "id": "Aps5oKmKzKbr",
        "outputId": "4aaf1dd2-4699-45a5-dcd3-7a8c15256d5e",
        "colab": {
          "base_uri": "https://localhost:8080/",
          "height": 395
        }
      },
      "id": "Aps5oKmKzKbr",
      "execution_count": 115,
      "outputs": [
        {
          "output_type": "display_data",
          "data": {
            "text/plain": [
              "<Figure size 720x360 with 1 Axes>"
            ],
            "image/png": "[encoded data removed]"
          },
          "metadata": {
            "needs_background": "light"
          }
        }
      ]
    },
    {
      "cell_type": "code",
      "source": [
        "import seaborn as sns \n",
        "df_draw=(df\n",
        "         .query(\"\")\n",
        "         .query(\"\")\n",
        "         \n",
        "         )"
      ],
      "metadata": {
        "id": "rUORDjYV16pq"
      },
      "id": "rUORDjYV16pq",
      "execution_count": null,
      "outputs": []
    },
    {
      "cell_type": "code",
      "source": [
        "import pandas as pd\n",
        "import matplotlib.pyplot as plt\n",
        "\n",
        "# Read the data into a Pandas dataframe\n",
        "data = {'Education': ['primaria', 'secundaria', 'terciaria'],\n",
        "        'endeudados': [607, 2311, 720],\n",
        "        'balance positivo': [6160, 20590, 12177],\n",
        "        'potencial paquete inversion': [84, 301, 404]}\n",
        "df = pd.DataFrame(data)\n",
        "\n",
        "# Plot the data as a box plot\n",
        "df.boxplot(column=['endeudados','balance positivo','potencial paquete inversion'], by='Education', figsize=(10,5))\n",
        "\n",
        "# Add labels and title to the graph\n",
        "plt.xlabel('Education Level')\n",
        "plt.ylabel('Amount')\n",
        "plt.title('Relationship between Education Level and Bank Balance')\n",
        "\n",
        "# Show the graph\n",
        "plt.show()\n"
      ],
      "metadata": {
        "id": "zECZQgXg2OHh",
        "outputId": "04fee1f8-a3cf-4cc2-de1c-999d88fde916",
        "colab": {
          "base_uri": "https://localhost:8080/",
          "height": 361
        }
      },
      "id": "zECZQgXg2OHh",
      "execution_count": 118,
      "outputs": [
        {
          "output_type": "display_data",
          "data": {
            "text/plain": [
              "<Figure size 720x360 with 4 Axes>"
            ],
            "image/png": "[encoded data removed]"
          },
          "metadata": {
            "needs_background": "light"
          }
        }
      ]
    },
    {
      "cell_type": "code",
      "source": [
        "sns.boxplot(data=df_draw,x='neighbourhood',y='price',hue='room_type')"
      ],
      "metadata": {
        "id": "V7gLnbfe4wQt"
      },
      "id": "V7gLnbfe4wQt",
      "execution_count": null,
      "outputs": []
    },
    {
      "cell_type": "code",
      "source": [
        "import pandas as pd\n",
        "import matplotlib.pyplot as plt\n",
        "\n",
        "data = {'Education': ['primaria', 'secundaria', 'terciaria'],\n",
        "        'endeudados': [607, 2311, 720],\n",
        "        'balance positivo': [6160, 20590, 12177],\n",
        "        'potencial paquete inversion': [84, 301, 404]}\n",
        "\n",
        "df = pd.DataFrame(data)\n",
        "\n",
        "fig, ax = plt.subplots(1, 3, figsize=(12, 4))\n",
        "\n",
        "for i, col in enumerate(df.columns[1:]):\n",
        "    df.plot.pie(y=col, ax=ax[i], autopct='%1.1f%%', labels=df['Education'], startangle=90)\n",
        "    ax[i].set_title(col)\n",
        "    ax[i].set_ylabel('')\n",
        "\n",
        "plt.tight_layout()\n",
        "plt.show()\n"
      ],
      "metadata": {
        "id": "inBydHRU6LWc",
        "outputId": "a60196a3-0244-4168-f39b-de1a789e8153",
        "colab": {
          "base_uri": "https://localhost:8080/",
          "height": 274
        }
      },
      "id": "inBydHRU6LWc",
      "execution_count": 120,
      "outputs": [
        {
          "output_type": "display_data",
          "data": {
            "text/plain": [
              "<Figure size 864x288 with 3 Axes>"
            ],
            "image/png": "[encoded data removed]"
          },
          "metadata": {}
        }
      ]
    },
    {
      "cell_type": "code",
      "source": [
        "import pandas as pd\n",
        "import matplotlib.pyplot as plt\n",
        "\n",
        "data = {'Balance de cuenta': ['endeudados', 'balance positivo', 'potencial paquete inversion'],\n",
        "        'primaria': [607, 6160, 84],\n",
        "        'secundaria': [2311, 20590, 301],\n",
        "        'terciaria': [720, 12177, 404]}\n",
        "\n",
        "df = pd.DataFrame(data)\n",
        "\n",
        "fig, ax = plt.subplots(1, 3, figsize=(12, 4))\n",
        "\n",
        "for i, col in enumerate(df.columns[1:]):\n",
        "    df.plot.pie(y=col, ax=ax[i], autopct='%1.1f%%', labels=df['Balance de cuenta'], startangle=90)\n",
        "    ax[i].set_title(col)\n",
        "    ax[i].set_ylabel('')\n",
        "\n",
        "plt.tight_layout()\n",
        "plt.show()\n"
      ],
      "metadata": {
        "id": "4lbtsXwb6YlX",
        "outputId": "01d2c819-54a1-4c2c-a272-b389132b8c61",
        "colab": {
          "base_uri": "https://localhost:8080/",
          "height": 274
        }
      },
      "id": "4lbtsXwb6YlX",
      "execution_count": 123,
      "outputs": [
        {
          "output_type": "display_data",
          "data": {
            "text/plain": [
              "<Figure size 864x288 with 3 Axes>"
            ],
            "image/png": "[encoded data removed]"
          },
          "metadata": {}
        }
      ]
    },
    {
      "cell_type": "markdown",
      "source": [
        "¿Cuál es el grupo que más destaca? "
      ],
      "metadata": {
        "id": "XHeTLpaXiMGL"
      },
      "id": "XHeTLpaXiMGL"
    },
    {
      "cell_type": "markdown",
      "source": [
        "Aporta toda la información que creas necesaria que puedes obtener de la gráfica."
      ],
      "metadata": {
        "id": "DF5lKNDviNhx"
      },
      "id": "DF5lKNDviNhx"
    },
    {
      "cell_type": "markdown",
      "source": [
        "#EJERCICIO 2"
      ],
      "metadata": {
        "id": "0yMkvEebkl3T"
      },
      "id": "0yMkvEebkl3T"
    },
    {
      "cell_type": "markdown",
      "source": [
        "En este ejercicio nos piden que dividamos las edades, es decir que pase de ser una variable númerica a que sea una variable categórica. En concreto nosotros vamosa hacer la división de esta manera: los menores de 30 años van a ser alumnos, de 30 a 45 años serán trabajadores jóvenes, de 46 a 65 trabajadores veteranos, y por último los trabajdores no vinculados a la universidad. \n",
        "\n",
        "¿Cuál es el grupo de edad que tiene más clientes?\n"
      ],
      "metadata": {
        "id": "CfrnxYnukrai"
      },
      "id": "CfrnxYnukrai"
    },
    {
      "cell_type": "code",
      "source": [
        "#Establecemos las diferentes clases que queremos crear.\n",
        "filas=len(df.axes[0])\n",
        "for i in range (filas):\n",
        "    if df['age'][i]<30:\n",
        "        df['age'][i]='Alumnos'\n",
        "    elif df['age'][i]>=30 and df['age'][i]<=45:\n",
        "        df['age'][i]='Trabajadores jóvenes'\n",
        "    elif df['age'][i]>=46 and df['age'][i]<=65:\n",
        "        df['age'][i]='Trabajadores veteranos'\n",
        "    else:\n",
        "        df['age'][i]='Cliente no vinvulado'\n"
      ],
      "metadata": {
        "id": "JEqKXzK1Dcsh"
      },
      "id": "JEqKXzK1Dcsh",
      "execution_count": null,
      "outputs": []
    },
    {
      "cell_type": "markdown",
      "source": [
        "Una vez transformada la variable vamos a compar cuantos tipo de cada hay."
      ],
      "metadata": {
        "id": "_3LIiYiTEnKq"
      },
      "id": "_3LIiYiTEnKq"
    },
    {
      "cell_type": "code",
      "source": [
        "count = df['age'].value_counts()"
      ],
      "metadata": {
        "id": "zCoDGNuJEP1_"
      },
      "id": "zCoDGNuJEP1_",
      "execution_count": null,
      "outputs": []
    },
    {
      "cell_type": "markdown",
      "source": [
        "Ahora, además de saber cuales son las categorías que hemos creado, sabemos cuantas observaciones pertenercen a cada categoría.\n",
        "\n",
        "- Alumnos: 5273\n",
        "- Trabajadores jóvenes: 25490\n",
        "- Trabajadores veteranos: 13697\n",
        "- Cliente no vinculado: 751\n",
        "\n",
        "Al visualizar estos datos se nos hace raro pensar que en un banco situado dentro de la universidad donde la mayoría de las personas que pasan por delente sean alumnos, que sea la segunda categoría con menos frecuencia."
      ],
      "metadata": {
        "id": "nVqV2Pp5E0T_"
      },
      "id": "nVqV2Pp5E0T_"
    },
    {
      "cell_type": "code",
      "source": [
        "df['age'].value_counts().plot(kind='pie', title='Edad en categorías')"
      ],
      "metadata": {
        "id": "CK_Rk1vWEwid"
      },
      "id": "CK_Rk1vWEwid",
      "execution_count": null,
      "outputs": []
    },
    {
      "cell_type": "markdown",
      "source": [
        "Observamos que hay bastantes más valores de trabajadores jóvenes, seguido de trabajadores veteranos."
      ],
      "metadata": {
        "id": "8tbo_QZ6F40n"
      },
      "id": "8tbo_QZ6F40n"
    },
    {
      "cell_type": "markdown",
      "source": [
        "#EJERCICIO 3"
      ],
      "metadata": {
        "id": "XXcoOB27koaJ"
      },
      "id": "XXcoOB27koaJ"
    },
    {
      "cell_type": "markdown",
      "source": [
        "En este ejercicio lo que queremos hacer es ver la duración de los clientes del banco Santander en la sucursal de la UFV. Para eso lo que vamos a hacer es pasar los días a años y una vez en año vamos a graficarlo para ver que tipo de clientes son los que tiene esta sucursal."
      ],
      "metadata": {
        "id": "JlxSZRHmm8jt"
      },
      "id": "JlxSZRHmm8jt"
    },
    {
      "cell_type": "code",
      "source": [
        "#Convertimos la columna duration a float \n",
        "#para que la operación salga con decimales\n",
        "df['duration'] = df['duration'].astype (float)\n",
        "filas=len(df.axes[0])\n",
        "for i in range(filas):\n",
        "  df['duration'][i] = df['duration'][i]/365.25"
      ],
      "metadata": {
        "id": "EjOLJCIsDbkF"
      },
      "id": "EjOLJCIsDbkF",
      "execution_count": null,
      "outputs": []
    },
    {
      "cell_type": "markdown",
      "source": [
        "Una vez en decimales lo graficamos."
      ],
      "metadata": {
        "id": "pZY4QcdVoHy3"
      },
      "id": "pZY4QcdVoHy3"
    },
    {
      "cell_type": "code",
      "source": [
        "df['duration'].plot(title='Años en la empresa')"
      ],
      "metadata": {
        "id": "sOChTN9WPFGY"
      },
      "id": "sOChTN9WPFGY",
      "execution_count": null,
      "outputs": []
    },
    {
      "cell_type": "markdown",
      "source": [
        "#INTENTAR TRASPONERLA"
      ],
      "metadata": {
        "id": "WKw4Oqg4oSLr"
      },
      "id": "WKw4Oqg4oSLr"
    },
    {
      "cell_type": "code",
      "source": [
        "df"
      ],
      "metadata": {
        "id": "oK5ywf_SUNmI"
      },
      "id": "oK5ywf_SUNmI",
      "execution_count": null,
      "outputs": []
    }
  ],
  "metadata": {
    "kernelspec": {
      "display_name": "Python 3 (ipykernel)",
      "language": "python",
      "name": "python3"
    },
    "language_info": {
      "codemirror_mode": {
        "name": "ipython",
        "version": 3
      },
      "file_extension": ".py",
      "mimetype": "text/x-python",
      "name": "python",
      "nbconvert_exporter": "python",
      "pygments_lexer": "ipython3",
      "version": "3.8.8"
    },
    "colab": {
      "provenance": [],
      "include_colab_link": true
    }
  },
  "nbformat": 4,
  "nbformat_minor": 5
}